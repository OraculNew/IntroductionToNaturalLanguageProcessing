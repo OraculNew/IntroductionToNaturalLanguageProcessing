{
  "cells": [
    {
      "cell_type": "markdown",
      "id": "357280c8",
      "metadata": {
        "id": "357280c8"
      },
      "source": [
        "# Практическое задание к уроку 11. Модель Transformer-1\n",
        "\n",
        "\n",
        "1. Взять предобученную трансформерную архитектуру и решить задачу перевода (для тогоже корпуса что вы выбрали из предыдущего дз)\n",
        "\n",
        "2. скачиваем готовый новостной датасет\n",
        "!wget https://github.com/ods-ai-ml4sg/proj_news_viz/releases/download/data/gazeta.csv.gz\n",
        "        ```\n",
        "        # пример работы с ним \n",
        "        from corus import load_ods_gazeta\n",
        "        path = 'gazeta.csv.gz'\n",
        "        records = load_ods_gazeta(path)\n",
        "        next(records)\n",
        "        ```\n",
        "\n",
        "3. реализовать метод поиска ближайших статей\n",
        "\n",
        "(на вход метода должен приходить запрос (какой-то вопрос) и количество вариантов вывода к примеру топ 5-ть или 3-ри, ваш метод должен возвращать топ-k ближайших статей к этому запросу)\n",
        "    \n",
        "    \n",
        "4. визуально оценить качество"
      ]
    },
    {
      "cell_type": "markdown",
      "id": "94935c71",
      "metadata": {
        "id": "94935c71"
      },
      "source": [
        "#### 1. Взять предобученную трансформерную архитектуру и решить задачу перевода (для тогоже корпуса что вы выбрали из предыдущего дз)"
      ]
    },
    {
      "cell_type": "code",
      "execution_count": null,
      "id": "3378d464",
      "metadata": {
        "id": "3378d464",
        "outputId": "5b288d4b-234a-42c6-bfa7-56021d3cff12"
      },
      "outputs": [
        {
          "name": "stdout",
          "output_type": "stream",
          "text": [
            "Requirement already satisfied: transformers in /Users/alenakukhta/opt/anaconda3/lib/python3.9/site-packages (4.20.1)\n",
            "Requirement already satisfied: tokenizers!=0.11.3,<0.13,>=0.11.1 in /Users/alenakukhta/opt/anaconda3/lib/python3.9/site-packages (from transformers) (0.12.1)\n",
            "Requirement already satisfied: requests in /Users/alenakukhta/opt/anaconda3/lib/python3.9/site-packages (from transformers) (2.27.1)\n",
            "Requirement already satisfied: numpy>=1.17 in /Users/alenakukhta/opt/anaconda3/lib/python3.9/site-packages (from transformers) (1.19.5)\n",
            "Requirement already satisfied: tqdm>=4.27 in /Users/alenakukhta/opt/anaconda3/lib/python3.9/site-packages (from transformers) (4.64.0)\n",
            "Requirement already satisfied: pyyaml>=5.1 in /Users/alenakukhta/opt/anaconda3/lib/python3.9/site-packages (from transformers) (6.0)\n",
            "Requirement already satisfied: huggingface-hub<1.0,>=0.1.0 in /Users/alenakukhta/opt/anaconda3/lib/python3.9/site-packages (from transformers) (0.8.1)\n",
            "Requirement already satisfied: regex!=2019.12.17 in /Users/alenakukhta/opt/anaconda3/lib/python3.9/site-packages (from transformers) (2022.3.15)\n",
            "Requirement already satisfied: packaging>=20.0 in /Users/alenakukhta/opt/anaconda3/lib/python3.9/site-packages (from transformers) (21.3)\n",
            "Requirement already satisfied: filelock in /Users/alenakukhta/opt/anaconda3/lib/python3.9/site-packages (from transformers) (3.6.0)\n",
            "Requirement already satisfied: typing-extensions>=3.7.4.3 in /Users/alenakukhta/opt/anaconda3/lib/python3.9/site-packages (from huggingface-hub<1.0,>=0.1.0->transformers) (3.7.4.3)\n",
            "Requirement already satisfied: pyparsing!=3.0.5,>=2.0.2 in /Users/alenakukhta/opt/anaconda3/lib/python3.9/site-packages (from packaging>=20.0->transformers) (3.0.4)\n",
            "Requirement already satisfied: charset-normalizer~=2.0.0 in /Users/alenakukhta/opt/anaconda3/lib/python3.9/site-packages (from requests->transformers) (2.0.4)\n",
            "Requirement already satisfied: idna<4,>=2.5 in /Users/alenakukhta/opt/anaconda3/lib/python3.9/site-packages (from requests->transformers) (3.3)\n",
            "Requirement already satisfied: certifi>=2017.4.17 in /Users/alenakukhta/opt/anaconda3/lib/python3.9/site-packages (from requests->transformers) (2022.5.18.1)\n",
            "Requirement already satisfied: urllib3<1.27,>=1.21.1 in /Users/alenakukhta/opt/anaconda3/lib/python3.9/site-packages (from requests->transformers) (1.26.9)\n"
          ]
        }
      ],
      "source": [
        "!pip install transformers\n",
        "import transformers"
      ]
    },
    {
      "cell_type": "code",
      "execution_count": null,
      "id": "84871f0d",
      "metadata": {
        "id": "84871f0d",
        "outputId": "bab4166f-3d66-4373-dc12-e3e6606557b1"
      },
      "outputs": [
        {
          "name": "stdout",
          "output_type": "stream",
          "text": [
            "Requirement already satisfied: sacremoses in /Users/alenakukhta/opt/anaconda3/lib/python3.9/site-packages (0.0.53)\r\n",
            "Requirement already satisfied: click in /Users/alenakukhta/opt/anaconda3/lib/python3.9/site-packages (from sacremoses) (8.0.4)\r\n",
            "Requirement already satisfied: regex in /Users/alenakukhta/opt/anaconda3/lib/python3.9/site-packages (from sacremoses) (2022.3.15)\r\n",
            "Requirement already satisfied: joblib in /Users/alenakukhta/opt/anaconda3/lib/python3.9/site-packages (from sacremoses) (1.1.0)\r\n",
            "Requirement already satisfied: six in /Users/alenakukhta/opt/anaconda3/lib/python3.9/site-packages (from sacremoses) (1.15.0)\r\n",
            "Requirement already satisfied: tqdm in /Users/alenakukhta/opt/anaconda3/lib/python3.9/site-packages (from sacremoses) (4.64.0)\r\n"
          ]
        }
      ],
      "source": [
        "!pip install sacremoses"
      ]
    },
    {
      "cell_type": "code",
      "execution_count": null,
      "id": "877be730",
      "metadata": {
        "id": "877be730",
        "outputId": "c09d758e-938c-4c06-c439-3923ae6037d2"
      },
      "outputs": [
        {
          "name": "stdout",
          "output_type": "stream",
          "text": [
            "Requirement already satisfied: torch in /Users/alenakukhta/opt/anaconda3/lib/python3.9/site-packages (1.12.0)\n",
            "Requirement already satisfied: torchvision in /Users/alenakukhta/opt/anaconda3/lib/python3.9/site-packages (0.13.0)\n",
            "Requirement already satisfied: typing-extensions in /Users/alenakukhta/opt/anaconda3/lib/python3.9/site-packages (from torch) (3.7.4.3)\n",
            "Requirement already satisfied: numpy in /Users/alenakukhta/opt/anaconda3/lib/python3.9/site-packages (from torchvision) (1.19.5)\n",
            "Requirement already satisfied: requests in /Users/alenakukhta/opt/anaconda3/lib/python3.9/site-packages (from torchvision) (2.27.1)\n",
            "Requirement already satisfied: pillow!=8.3.*,>=5.3.0 in /Users/alenakukhta/opt/anaconda3/lib/python3.9/site-packages (from torchvision) (9.0.1)\n",
            "Requirement already satisfied: urllib3<1.27,>=1.21.1 in /Users/alenakukhta/opt/anaconda3/lib/python3.9/site-packages (from requests->torchvision) (1.26.9)\n",
            "Requirement already satisfied: idna<4,>=2.5 in /Users/alenakukhta/opt/anaconda3/lib/python3.9/site-packages (from requests->torchvision) (3.3)\n",
            "Requirement already satisfied: certifi>=2017.4.17 in /Users/alenakukhta/opt/anaconda3/lib/python3.9/site-packages (from requests->torchvision) (2022.5.18.1)\n",
            "Requirement already satisfied: charset-normalizer~=2.0.0 in /Users/alenakukhta/opt/anaconda3/lib/python3.9/site-packages (from requests->torchvision) (2.0.4)\n"
          ]
        }
      ],
      "source": [
        "!pip3 install torch torchvision"
      ]
    },
    {
      "cell_type": "code",
      "execution_count": null,
      "id": "17e9d222",
      "metadata": {
        "id": "17e9d222"
      },
      "outputs": [],
      "source": [
        "import pandas as pd\n",
        "import numpy as np\n",
        "\n",
        "from transformers import FSMTForConditionalGeneration, FSMTTokenizer\n",
        "\n",
        "mname = \"facebook/wmt19-en-ru\"\n",
        "tokenizer = FSMTTokenizer.from_pretrained(mname)\n",
        "model = FSMTForConditionalGeneration.from_pretrained(mname)"
      ]
    },
    {
      "cell_type": "code",
      "execution_count": null,
      "id": "e6e27aef",
      "metadata": {
        "id": "e6e27aef",
        "outputId": "a67be0a8-0de5-4751-f44f-5e46fd82d036"
      },
      "outputs": [
        {
          "name": "stdout",
          "output_type": "stream",
          "text": [
            "Requirement already satisfied: datasets in /Users/alenakukhta/opt/anaconda3/lib/python3.9/site-packages (2.3.2)\n",
            "Requirement already satisfied: pyarrow>=6.0.0 in /Users/alenakukhta/opt/anaconda3/lib/python3.9/site-packages (from datasets) (8.0.0)\n",
            "Requirement already satisfied: pandas in /Users/alenakukhta/opt/anaconda3/lib/python3.9/site-packages (from datasets) (1.2.0)\n",
            "Requirement already satisfied: multiprocess in /Users/alenakukhta/opt/anaconda3/lib/python3.9/site-packages (from datasets) (0.70.13)\n",
            "Requirement already satisfied: packaging in /Users/alenakukhta/opt/anaconda3/lib/python3.9/site-packages (from datasets) (21.3)\n",
            "Requirement already satisfied: aiohttp in /Users/alenakukhta/opt/anaconda3/lib/python3.9/site-packages (from datasets) (3.8.1)\n",
            "Requirement already satisfied: tqdm>=4.62.1 in /Users/alenakukhta/opt/anaconda3/lib/python3.9/site-packages (from datasets) (4.64.0)\n",
            "Requirement already satisfied: numpy>=1.17 in /Users/alenakukhta/opt/anaconda3/lib/python3.9/site-packages (from datasets) (1.19.5)\n",
            "Requirement already satisfied: huggingface-hub<1.0.0,>=0.1.0 in /Users/alenakukhta/opt/anaconda3/lib/python3.9/site-packages (from datasets) (0.8.1)\n",
            "Requirement already satisfied: fsspec[http]>=2021.05.0 in /Users/alenakukhta/opt/anaconda3/lib/python3.9/site-packages (from datasets) (2022.2.0)\n",
            "Requirement already satisfied: xxhash in /Users/alenakukhta/opt/anaconda3/lib/python3.9/site-packages (from datasets) (3.0.0)\n",
            "Requirement already satisfied: responses<0.19 in /Users/alenakukhta/opt/anaconda3/lib/python3.9/site-packages (from datasets) (0.18.0)\n",
            "Requirement already satisfied: dill<0.3.6 in /Users/alenakukhta/opt/anaconda3/lib/python3.9/site-packages (from datasets) (0.3.5.1)\n",
            "Requirement already satisfied: requests>=2.19.0 in /Users/alenakukhta/opt/anaconda3/lib/python3.9/site-packages (from datasets) (2.27.1)\n",
            "Requirement already satisfied: pyyaml>=5.1 in /Users/alenakukhta/opt/anaconda3/lib/python3.9/site-packages (from huggingface-hub<1.0.0,>=0.1.0->datasets) (6.0)\n",
            "Requirement already satisfied: filelock in /Users/alenakukhta/opt/anaconda3/lib/python3.9/site-packages (from huggingface-hub<1.0.0,>=0.1.0->datasets) (3.6.0)\n",
            "Requirement already satisfied: typing-extensions>=3.7.4.3 in /Users/alenakukhta/opt/anaconda3/lib/python3.9/site-packages (from huggingface-hub<1.0.0,>=0.1.0->datasets) (3.7.4.3)\n",
            "Requirement already satisfied: pyparsing!=3.0.5,>=2.0.2 in /Users/alenakukhta/opt/anaconda3/lib/python3.9/site-packages (from packaging->datasets) (3.0.4)\n",
            "Requirement already satisfied: charset-normalizer~=2.0.0 in /Users/alenakukhta/opt/anaconda3/lib/python3.9/site-packages (from requests>=2.19.0->datasets) (2.0.4)\n",
            "Requirement already satisfied: certifi>=2017.4.17 in /Users/alenakukhta/opt/anaconda3/lib/python3.9/site-packages (from requests>=2.19.0->datasets) (2022.5.18.1)\n",
            "Requirement already satisfied: idna<4,>=2.5 in /Users/alenakukhta/opt/anaconda3/lib/python3.9/site-packages (from requests>=2.19.0->datasets) (3.3)\n",
            "Requirement already satisfied: urllib3<1.27,>=1.21.1 in /Users/alenakukhta/opt/anaconda3/lib/python3.9/site-packages (from requests>=2.19.0->datasets) (1.26.9)\n",
            "Requirement already satisfied: multidict<7.0,>=4.5 in /Users/alenakukhta/opt/anaconda3/lib/python3.9/site-packages (from aiohttp->datasets) (5.2.0)\n",
            "Requirement already satisfied: aiosignal>=1.1.2 in /Users/alenakukhta/opt/anaconda3/lib/python3.9/site-packages (from aiohttp->datasets) (1.2.0)\n",
            "Requirement already satisfied: frozenlist>=1.1.1 in /Users/alenakukhta/opt/anaconda3/lib/python3.9/site-packages (from aiohttp->datasets) (1.2.0)\n",
            "Requirement already satisfied: async-timeout<5.0,>=4.0.0a3 in /Users/alenakukhta/opt/anaconda3/lib/python3.9/site-packages (from aiohttp->datasets) (4.0.1)\n",
            "Requirement already satisfied: yarl<2.0,>=1.0 in /Users/alenakukhta/opt/anaconda3/lib/python3.9/site-packages (from aiohttp->datasets) (1.6.3)\n",
            "Requirement already satisfied: attrs>=17.3.0 in /Users/alenakukhta/opt/anaconda3/lib/python3.9/site-packages (from aiohttp->datasets) (21.4.0)\n",
            "Requirement already satisfied: python-dateutil>=2.7.3 in /Users/alenakukhta/opt/anaconda3/lib/python3.9/site-packages (from pandas->datasets) (2.8.2)\n",
            "Requirement already satisfied: pytz>=2017.3 in /Users/alenakukhta/opt/anaconda3/lib/python3.9/site-packages (from pandas->datasets) (2021.3)\n",
            "Requirement already satisfied: six>=1.5 in /Users/alenakukhta/opt/anaconda3/lib/python3.9/site-packages (from python-dateutil>=2.7.3->pandas->datasets) (1.15.0)\n"
          ]
        }
      ],
      "source": [
        "!pip install datasets"
      ]
    },
    {
      "cell_type": "code",
      "execution_count": null,
      "id": "965a9df5",
      "metadata": {
        "scrolled": true,
        "id": "965a9df5",
        "outputId": "074a77f8-fd85-4aac-a315-b4868e65abf9",
        "colab": {
          "referenced_widgets": [
            "1dd2b66e2e804c659dc72f0a95687906"
          ]
        }
      },
      "outputs": [
        {
          "name": "stderr",
          "output_type": "stream",
          "text": [
            "Reusing dataset cnn_dailymail (/Users/alenakukhta/.cache/huggingface/datasets/cnn_dailymail/3.0.0/3.0.0/1b3c71476f6d152c31c1730e83ccb08bcf23e348233f4fcc11e182248e6bf7de)\n"
          ]
        },
        {
          "data": {
            "application/vnd.jupyter.widget-view+json": {
              "model_id": "1dd2b66e2e804c659dc72f0a95687906",
              "version_major": 2,
              "version_minor": 0
            },
            "text/plain": [
              "  0%|          | 0/3 [00:00<?, ?it/s]"
            ]
          },
          "metadata": {},
          "output_type": "display_data"
        }
      ],
      "source": [
        "from datasets import load_dataset\n",
        "\n",
        "dataset = load_dataset(\"cnn_dailymail\", \"3.0.0\")"
      ]
    },
    {
      "cell_type": "code",
      "execution_count": null,
      "id": "5c9d43aa",
      "metadata": {
        "id": "5c9d43aa"
      },
      "outputs": [],
      "source": [
        "df = pd.DataFrame(dataset[\"train\"])"
      ]
    },
    {
      "cell_type": "code",
      "execution_count": null,
      "id": "97723ec0",
      "metadata": {
        "id": "97723ec0",
        "outputId": "f66c3bfc-05c4-4276-b8ea-bd28283728db"
      },
      "outputs": [
        {
          "data": {
            "text/html": [
              "<div>\n",
              "<style scoped>\n",
              "    .dataframe tbody tr th:only-of-type {\n",
              "        vertical-align: middle;\n",
              "    }\n",
              "\n",
              "    .dataframe tbody tr th {\n",
              "        vertical-align: top;\n",
              "    }\n",
              "\n",
              "    .dataframe thead th {\n",
              "        text-align: right;\n",
              "    }\n",
              "</style>\n",
              "<table border=\"1\" class=\"dataframe\">\n",
              "  <thead>\n",
              "    <tr style=\"text-align: right;\">\n",
              "      <th></th>\n",
              "      <th>article</th>\n",
              "      <th>highlights</th>\n",
              "      <th>id</th>\n",
              "    </tr>\n",
              "  </thead>\n",
              "  <tbody>\n",
              "    <tr>\n",
              "      <th>0</th>\n",
              "      <td>LONDON, England (Reuters) -- Harry Potter star...</td>\n",
              "      <td>Harry Potter star Daniel Radcliffe gets £20M f...</td>\n",
              "      <td>42c027e4ff9730fbb3de84c1af0d2c506e41c3e4</td>\n",
              "    </tr>\n",
              "    <tr>\n",
              "      <th>1</th>\n",
              "      <td>Editor's note: In our Behind the Scenes series...</td>\n",
              "      <td>Mentally ill inmates in Miami are housed on th...</td>\n",
              "      <td>ee8871b15c50d0db17b0179a6d2beab35065f1e9</td>\n",
              "    </tr>\n",
              "    <tr>\n",
              "      <th>2</th>\n",
              "      <td>MINNEAPOLIS, Minnesota (CNN) -- Drivers who we...</td>\n",
              "      <td>NEW: \"I thought I was going to die,\" driver sa...</td>\n",
              "      <td>06352019a19ae31e527f37f7571c6dd7f0c5da37</td>\n",
              "    </tr>\n",
              "    <tr>\n",
              "      <th>3</th>\n",
              "      <td>WASHINGTON (CNN) -- Doctors removed five small...</td>\n",
              "      <td>Five small polyps found during procedure; \"non...</td>\n",
              "      <td>24521a2abb2e1f5e34e6824e0f9e56904a2b0e88</td>\n",
              "    </tr>\n",
              "    <tr>\n",
              "      <th>4</th>\n",
              "      <td>(CNN)  -- The National Football League has ind...</td>\n",
              "      <td>NEW: NFL chief, Atlanta Falcons owner critical...</td>\n",
              "      <td>7fe70cc8b12fab2d0a258fababf7d9c6b5e1262a</td>\n",
              "    </tr>\n",
              "  </tbody>\n",
              "</table>\n",
              "</div>"
            ],
            "text/plain": [
              "                                             article  \\\n",
              "0  LONDON, England (Reuters) -- Harry Potter star...   \n",
              "1  Editor's note: In our Behind the Scenes series...   \n",
              "2  MINNEAPOLIS, Minnesota (CNN) -- Drivers who we...   \n",
              "3  WASHINGTON (CNN) -- Doctors removed five small...   \n",
              "4  (CNN)  -- The National Football League has ind...   \n",
              "\n",
              "                                          highlights  \\\n",
              "0  Harry Potter star Daniel Radcliffe gets £20M f...   \n",
              "1  Mentally ill inmates in Miami are housed on th...   \n",
              "2  NEW: \"I thought I was going to die,\" driver sa...   \n",
              "3  Five small polyps found during procedure; \"non...   \n",
              "4  NEW: NFL chief, Atlanta Falcons owner critical...   \n",
              "\n",
              "                                         id  \n",
              "0  42c027e4ff9730fbb3de84c1af0d2c506e41c3e4  \n",
              "1  ee8871b15c50d0db17b0179a6d2beab35065f1e9  \n",
              "2  06352019a19ae31e527f37f7571c6dd7f0c5da37  \n",
              "3  24521a2abb2e1f5e34e6824e0f9e56904a2b0e88  \n",
              "4  7fe70cc8b12fab2d0a258fababf7d9c6b5e1262a  "
            ]
          },
          "execution_count": 8,
          "metadata": {},
          "output_type": "execute_result"
        }
      ],
      "source": [
        "df.head()"
      ]
    },
    {
      "cell_type": "code",
      "execution_count": null,
      "id": "1e916b68",
      "metadata": {
        "id": "1e916b68"
      },
      "outputs": [],
      "source": [
        "def translate(text):\n",
        "    input_ids = tokenizer.encode(text, return_tensors=\"pt\")\n",
        "    outputs = model.generate(input_ids)\n",
        "    decoded = tokenizer.decode(outputs[0], skip_special_tokens=True)\n",
        "    return decoded"
      ]
    },
    {
      "cell_type": "code",
      "execution_count": null,
      "id": "8d9b1bd0",
      "metadata": {
        "id": "8d9b1bd0"
      },
      "outputs": [],
      "source": [
        "#df['context_ru'] = df['context'].apply(np.vectorize(translate))"
      ]
    },
    {
      "cell_type": "code",
      "execution_count": null,
      "id": "ad9da4a0",
      "metadata": {
        "id": "ad9da4a0"
      },
      "outputs": [],
      "source": [
        "df_slice = df.iloc[:10, :]"
      ]
    },
    {
      "cell_type": "code",
      "execution_count": null,
      "id": "6cf87ab1",
      "metadata": {
        "id": "6cf87ab1",
        "outputId": "f58da1bc-bb75-437b-d06a-a7deddafbc22"
      },
      "outputs": [
        {
          "name": "stderr",
          "output_type": "stream",
          "text": [
            "/var/folders/64/g6jhnpm16ql1vgrrbrbd_yd00000gn/T/ipykernel_21365/4238898131.py:1: SettingWithCopyWarning: \n",
            "A value is trying to be set on a copy of a slice from a DataFrame.\n",
            "Try using .loc[row_indexer,col_indexer] = value instead\n",
            "\n",
            "See the caveats in the documentation: https://pandas.pydata.org/pandas-docs/stable/user_guide/indexing.html#returning-a-view-versus-a-copy\n",
            "  df_slice['highlights_ru'] = df_slice['highlights'].apply(np.vectorize(translate))\n"
          ]
        }
      ],
      "source": [
        "df_slice['highlights_ru'] = df_slice['highlights'].apply(np.vectorize(translate))"
      ]
    },
    {
      "cell_type": "code",
      "execution_count": null,
      "id": "d2aa26cd",
      "metadata": {
        "id": "d2aa26cd",
        "outputId": "efc5c942-df67-4f65-c790-71b391c949c1"
      },
      "outputs": [
        {
          "name": "stdout",
          "output_type": "stream",
          "text": [
            "ENG: Harry Potter star Daniel Radcliffe gets £20M fortune as he turns 18 Monday .\n",
            "Young actor says he has no plans to fritter his cash away .\n",
            "Radcliffe's earnings from first five Potter films have been held in trust fund .\n",
            "RUS: Звезда \"Гарри Поттера\" Дэниел Рэдклифф, которому в понедельник исполняется 18 лет, получил состояние в 20 миллионов фунтов стерлингов.\n",
            "\n",
            "\n",
            "ENG: Mentally ill inmates in Miami are housed on the \"forgotten floor\"\n",
            "Judge Steven Leifman says most are there as a result of \"avoidable felonies\"\n",
            "While CNN tours facility, patient shouts: \"I am the son of the president\"\n",
            "Leifman says the system is unjust and he's fighting for change .\n",
            "RUS: Больные заключенные в Майами сидят на \"забытом этаже\" Судья Стивен Лейфман говорит, что большинство из них оказались там в результате \"избегаемых преступников\" Во время посещения тюрьмы CNN пациент кричит: \"Я сын президента\" Лейфман говорит, что система несправедлива, и он борется за перемены.\n",
            "\n",
            "\n",
            "ENG: NEW: \"I thought I was going to die,\" driver says .\n",
            "Man says pickup truck was folded in half; he just has cut on face .\n",
            "Driver: \"I probably had a 30-, 35-foot free fall\"\n",
            "Minnesota bridge collapsed during rush hour Wednesday .\n",
            "RUS: НЬЮ-ЙОРК: \"Я думал, что умру\", - говорит водитель. Мужчина говорит, что пикап был сложен пополам; у него просто порез на лице.\n",
            "\n",
            "\n",
            "ENG: Five small polyps found during procedure; \"none worrisome,\" spokesman says .\n",
            "President reclaims powers transferred to vice president .\n",
            "Bush undergoes routine colonoscopy at Camp David .\n",
            "RUS: Пять небольших полипов, найденных во время процедуры; \"ни один из них не вызывает беспокойства\", говорит пресс-секретарь. Президент переназначает полномочия, переданные вице-президенту. Буш проходит рутинную колоноскопию в Кэмп-Дэвиде.\n",
            "\n",
            "\n",
            "ENG: NEW: NFL chief, Atlanta Falcons owner critical of Michael Vick's conduct .\n",
            "NFL suspends Falcons quarterback indefinitely without pay .\n",
            "Vick admits funding dogfighting operation but says he did not gamble .\n",
            "Vick due in federal court Monday; future in NFL remains uncertain .\n",
            "RUS: NEW: Глава НФЛ, владелец \"Атланта Фэлконс\" критикует поведение Майкла Вика. НФЛ отстраняет защитника \"Фэлконс\" на неопределенный срок без зарплаты. Вик признает финансирование операции по борьбе с догхантерами, но говорит, что он не играл в азартные игры. Вик должен предстать перед федеральным судом в понедельник; будущее в НФЛ остается неопределенным.\n",
            "\n",
            "\n",
            "ENG: Parents beam with pride, can't stop from smiling from outpouring of support .\n",
            "Mom: \"I was so happy I didn't know what to do\"\n",
            "Burn center in U.S. has offered to provide treatment for reconstructive surgeries .\n",
            "Dad says, \"Anything for Youssif\"\n",
            "RUS: Мама: \"Я была так счастлива, что не знала, что делать\" Ожоговый центр в США предложил лечение для рецидивистов. Папа говорит: \"Все для Юсифа\"\n",
            "\n",
            "\n",
            "ENG: Aid workers: Violence, increased cost of living drive women to prostitution .\n",
            "Group is working to raise awareness of the problem with Iraq's political leaders .\n",
            "Two Iraqi mothers tell CNN they turned to prostitution to help feed their children .\n",
            "\"Everything is for the children,\" one woman says .\n",
            "RUS: Две иракские матери говорят CNN, что они обратились к проституции, чтобы помочь прокормить своих детей. \"Все для детей\", - говорит одна женщина.\n",
            "\n",
            "\n",
            "ENG: Tomas Medina Caracas was a fugitive from a U.S. drug trafficking indictment .\n",
            "\"El Negro Acacio\" allegedly helped manage extensive cocaine network .\n",
            "U.S. Justice Department indicted him in 2002 .\n",
            "Colombian military: He was killed in an attack on a guerrilla encampment .\n",
            "RUS: Томас Медина Каракас был беглецом от американского наркобарона. \"Эль Негро Акасио\" якобы помогал управлять обширной кокаиновой сетью. Министерство юстиции США объявило его в международный розыск в 2002 году. Колумбийские военные: он был убит во время нападения на лагерь повстанцев.\n",
            "\n",
            "\n",
            "ENG: President Bush says Tony Snow \"will battle cancer and win\"  Job of press secretary \"has been a dream for me,\" Snow says  Snow leaving on September 14, will be succeeded by Dana Perino .\n",
            "RUS: Президент Буш говорит, что Тони Сноу \"сразится с раком и победит\" пресс-секретаря \"была для меня мечтой\", - говорит Сноу.\n",
            "\n",
            "\n",
            "ENG: Empty anti-tank weapon turns up in front of New Jersey home .\n",
            "Device handed over to Army ordnance disposal unit .\n",
            "Weapon not capable of being reloaded, experts say .\n",
            "RUS: Пустое противотанковое оружие появляется перед домом в Нью-Джерси. Девайс передан армейскому подразделению по утилизации боеприпасов. Weapon не поддается перезарядке, говорят эксперты.\n",
            "\n",
            "\n"
          ]
        }
      ],
      "source": [
        "for _, row in df_slice.iterrows():\n",
        "    print(f\"ENG: {row['highlights']}\")\n",
        "    print(f\"RUS: {row['highlights_ru']}\")\n",
        "    print('\\n')"
      ]
    },
    {
      "cell_type": "markdown",
      "id": "12761bbc",
      "metadata": {
        "id": "12761bbc"
      },
      "source": [
        "**Вывод:** Улавливается контекст. Довольно сносный результат."
      ]
    },
    {
      "cell_type": "markdown",
      "id": "3133a928",
      "metadata": {
        "id": "3133a928"
      },
      "source": [
        "#### 2. Cкачиваем готовый новостной датасет !wget https://github.com/ods-ai-ml4sg/proj_news_viz/releases/download/data/gazeta.csv.gz\n",
        " ```\n",
        " # пример работы с ним \n",
        " from corus import load_ods_gazeta\n",
        " path = 'gazeta.csv.gz'\n",
        " records = load_ods_gazeta(path)\n",
        " next(records)\n",
        " ```"
      ]
    },
    {
      "cell_type": "code",
      "execution_count": null,
      "id": "082ae187",
      "metadata": {
        "id": "082ae187"
      },
      "outputs": [],
      "source": [
        "!wget -O gazeta.csv.gz -qq --no-check-certificate https://github.com/ods-ai-ml4sg/proj_news_viz/releases/download/data/gazeta.csv.gz"
      ]
    },
    {
      "cell_type": "code",
      "execution_count": null,
      "id": "da5c2c0a",
      "metadata": {
        "id": "da5c2c0a",
        "outputId": "90d59096-c450-4dba-f61b-3a9dc04967db"
      },
      "outputs": [
        {
          "name": "stdout",
          "output_type": "stream",
          "text": [
            "Requirement already satisfied: corus in /Users/alenakukhta/opt/anaconda3/lib/python3.9/site-packages (0.9.0)\r\n"
          ]
        }
      ],
      "source": [
        "!pip install corus"
      ]
    },
    {
      "cell_type": "code",
      "execution_count": null,
      "id": "a40cda4b",
      "metadata": {
        "id": "a40cda4b",
        "outputId": "18f6ddf4-9834-4feb-e46c-edd8dbbcd13a"
      },
      "outputs": [
        {
          "data": {
            "text/plain": [
              "NewsRecord(\n",
              "    timestamp=datetime.datetime(2008, 11, 21, 15, 19, 14),\n",
              "    url='https://www.gazeta.ru/news/business/2008/11/21/n_1298950.shtml',\n",
              "    edition=None,\n",
              "    topics='Бизнес',\n",
              "    authors=None,\n",
              "    title='Госдума сокращает срок действия ставки экспортных пошлин на нефть',\n",
              "    text='Госдума приняла сегодня в первом чтении и сразу в целом поправки в закон «О таможенном тарифе», сокращающие срок действия ставки экспортных пошлин на нефть с 2-х до 1-го месяца.nnДля установления средних цен на нефть марки Urals и расчета экспортных пошлин правительство России в течение двух месяцев проводит мониторинг на международных рынках нефтяного сырья (средиземноморском и роттердамском), экспортные пошлины на нефть устанавливаются также раз в два месяца.nnСокращение на месяц периода мониторинга (с 15-го числа каждого календарного месяца по 14-е число следующего месяца) и соответственно срока действия ставок экспортных пошлин «позволит более оперативно реагировать на изменения экономической ситуации в стране и сэкономить нефтяникам миллиарды рублей», считают разработчики. Экспортные ставки будут вводиться с 1 числа календарного месяца, следующего за окончанием периода мониторинга.',\n",
              "    stats=Stats(\n",
              "        fb=None,\n",
              "        vk=None,\n",
              "        ok=None,\n",
              "        twitter=None,\n",
              "        lj=None,\n",
              "        tg=None,\n",
              "        likes=None,\n",
              "        views=None,\n",
              "        comments=None\n",
              "    )\n",
              ")"
            ]
          },
          "execution_count": 16,
          "metadata": {},
          "output_type": "execute_result"
        }
      ],
      "source": [
        "import corus\n",
        "from corus import load_ods_gazeta\n",
        "path = 'gazeta.csv.gz'\n",
        "records = load_ods_gazeta(path)\n",
        "next(records)"
      ]
    },
    {
      "cell_type": "code",
      "execution_count": null,
      "id": "13ce2edf",
      "metadata": {
        "id": "13ce2edf"
      },
      "outputs": [],
      "source": [
        "df = pd.DataFrame(records)"
      ]
    },
    {
      "cell_type": "code",
      "execution_count": null,
      "id": "1b70f1e9",
      "metadata": {
        "id": "1b70f1e9",
        "outputId": "27c22bd3-a0d5-4f82-f543-36c61ad8887e"
      },
      "outputs": [
        {
          "data": {
            "text/html": [
              "<div>\n",
              "<style scoped>\n",
              "    .dataframe tbody tr th:only-of-type {\n",
              "        vertical-align: middle;\n",
              "    }\n",
              "\n",
              "    .dataframe tbody tr th {\n",
              "        vertical-align: top;\n",
              "    }\n",
              "\n",
              "    .dataframe thead th {\n",
              "        text-align: right;\n",
              "    }\n",
              "</style>\n",
              "<table border=\"1\" class=\"dataframe\">\n",
              "  <thead>\n",
              "    <tr style=\"text-align: right;\">\n",
              "      <th></th>\n",
              "      <th>0</th>\n",
              "      <th>1</th>\n",
              "      <th>2</th>\n",
              "      <th>3</th>\n",
              "      <th>4</th>\n",
              "      <th>5</th>\n",
              "      <th>6</th>\n",
              "      <th>7</th>\n",
              "    </tr>\n",
              "  </thead>\n",
              "  <tbody>\n",
              "    <tr>\n",
              "      <th>0</th>\n",
              "      <td>2012-09-27 10:54:51</td>\n",
              "      <td>https://www.gazeta.ru/science/news/2012/09/27/...</td>\n",
              "      <td>None</td>\n",
              "      <td>Наука</td>\n",
              "      <td>None</td>\n",
              "      <td>Японские физики повторили синтез 113-го элемента</td>\n",
              "      <td>Японские ученые из физического центра RIKEN за...</td>\n",
              "      <td>Stats(fb=None, vk=None, ok=None, twitter=None,...</td>\n",
              "    </tr>\n",
              "    <tr>\n",
              "      <th>1</th>\n",
              "      <td>2015-12-01 15:28:45</td>\n",
              "      <td>https://www.gazeta.ru/army/news/7957079.shtml</td>\n",
              "      <td>None</td>\n",
              "      <td>Армия</td>\n",
              "      <td>None</td>\n",
              "      <td>Times: Россия строит новую авиабазу в Сирии</td>\n",
              "      <td>Россия готовится расширить свою военную операц...</td>\n",
              "      <td>Stats(fb=None, vk=None, ok=None, twitter=None,...</td>\n",
              "    </tr>\n",
              "    <tr>\n",
              "      <th>2</th>\n",
              "      <td>2013-04-18 16:42:06</td>\n",
              "      <td>https://www.gazeta.ru/travel/news/2013/04/18/n...</td>\n",
              "      <td>None</td>\n",
              "      <td>Новости</td>\n",
              "      <td>None</td>\n",
              "      <td>Власти Египта гарантируют безопасность российс...</td>\n",
              "      <td>Египет ждет российских туристов и гарантирует ...</td>\n",
              "      <td>Stats(fb=None, vk=None, ok=None, twitter=None,...</td>\n",
              "    </tr>\n",
              "    <tr>\n",
              "      <th>3</th>\n",
              "      <td>2012-09-26 13:54:13</td>\n",
              "      <td>https://www.gazeta.ru/politics/news/2012/09/26...</td>\n",
              "      <td>None</td>\n",
              "      <td>Политика</td>\n",
              "      <td>None</td>\n",
              "      <td>Гордума Новочеркасска приняла отставку мэра го...</td>\n",
              "      <td>В Ростовской области депутаты гордумы Новочерк...</td>\n",
              "      <td>Stats(fb=None, vk=None, ok=None, twitter=None,...</td>\n",
              "    </tr>\n",
              "    <tr>\n",
              "      <th>4</th>\n",
              "      <td>2012-09-26 21:11:33</td>\n",
              "      <td>https://www.gazeta.ru/culture/news/2012/09/26/...</td>\n",
              "      <td>None</td>\n",
              "      <td>Культура</td>\n",
              "      <td>None</td>\n",
              "      <td>Министерство культуры назвало фильмы, на котор...</td>\n",
              "      <td>Министерство культуры России определило перече...</td>\n",
              "      <td>Stats(fb=None, vk=None, ok=None, twitter=None,...</td>\n",
              "    </tr>\n",
              "  </tbody>\n",
              "</table>\n",
              "</div>"
            ],
            "text/plain": [
              "                    0                                                  1  \\\n",
              "0 2012-09-27 10:54:51  https://www.gazeta.ru/science/news/2012/09/27/...   \n",
              "1 2015-12-01 15:28:45      https://www.gazeta.ru/army/news/7957079.shtml   \n",
              "2 2013-04-18 16:42:06  https://www.gazeta.ru/travel/news/2013/04/18/n...   \n",
              "3 2012-09-26 13:54:13  https://www.gazeta.ru/politics/news/2012/09/26...   \n",
              "4 2012-09-26 21:11:33  https://www.gazeta.ru/culture/news/2012/09/26/...   \n",
              "\n",
              "      2         3     4                                                  5  \\\n",
              "0  None     Наука  None   Японские физики повторили синтез 113-го элемента   \n",
              "1  None     Армия  None        Times: Россия строит новую авиабазу в Сирии   \n",
              "2  None   Новости  None  Власти Египта гарантируют безопасность российс...   \n",
              "3  None  Политика  None  Гордума Новочеркасска приняла отставку мэра го...   \n",
              "4  None  Культура  None  Министерство культуры назвало фильмы, на котор...   \n",
              "\n",
              "                                                   6  \\\n",
              "0  Японские ученые из физического центра RIKEN за...   \n",
              "1  Россия готовится расширить свою военную операц...   \n",
              "2  Египет ждет российских туристов и гарантирует ...   \n",
              "3  В Ростовской области депутаты гордумы Новочерк...   \n",
              "4  Министерство культуры России определило перече...   \n",
              "\n",
              "                                                   7  \n",
              "0  Stats(fb=None, vk=None, ok=None, twitter=None,...  \n",
              "1  Stats(fb=None, vk=None, ok=None, twitter=None,...  \n",
              "2  Stats(fb=None, vk=None, ok=None, twitter=None,...  \n",
              "3  Stats(fb=None, vk=None, ok=None, twitter=None,...  \n",
              "4  Stats(fb=None, vk=None, ok=None, twitter=None,...  "
            ]
          },
          "execution_count": 18,
          "metadata": {},
          "output_type": "execute_result"
        }
      ],
      "source": [
        "df.head()"
      ]
    },
    {
      "cell_type": "code",
      "execution_count": null,
      "id": "c7ab3daf",
      "metadata": {
        "id": "c7ab3daf",
        "outputId": "d6649277-d63b-466d-cdef-946987d9240f"
      },
      "outputs": [
        {
          "data": {
            "text/plain": [
              "(865846, 8)"
            ]
          },
          "execution_count": 19,
          "metadata": {},
          "output_type": "execute_result"
        }
      ],
      "source": [
        "df.shape"
      ]
    },
    {
      "cell_type": "markdown",
      "id": "3a0b434d",
      "metadata": {
        "id": "3a0b434d"
      },
      "source": [
        "#### 4. Реализовать метод поиска ближайших статей\n",
        "(на вход метода должен приходить запрос (какой-то вопрос) и количество вариантов вывода к примеру топ 5-ть или 3-ри, ваш метод должен возвращать топ-k ближайших статей к этому запросу)"
      ]
    },
    {
      "cell_type": "markdown",
      "id": "dc90db08",
      "metadata": {
        "id": "dc90db08"
      },
      "source": [
        "https://huggingface.co/symanto/sn-xlm-roberta-base-snli-mnli-anli-xnli\n",
        "\n",
        "https://www.sbert.net/docs/usage/semantic_textual_similarity.html"
      ]
    },
    {
      "cell_type": "code",
      "execution_count": null,
      "id": "dcbc56b3",
      "metadata": {
        "id": "dcbc56b3",
        "outputId": "245d65a0-6342-454e-c22f-b66386fa4138"
      },
      "outputs": [
        {
          "name": "stdout",
          "output_type": "stream",
          "text": [
            "Requirement already satisfied: sentence-transformers in /Users/alenakukhta/opt/anaconda3/lib/python3.9/site-packages (2.2.2)\n",
            "Requirement already satisfied: nltk in /Users/alenakukhta/opt/anaconda3/lib/python3.9/site-packages (from sentence-transformers) (3.7)\n",
            "Requirement already satisfied: sentencepiece in /Users/alenakukhta/opt/anaconda3/lib/python3.9/site-packages (from sentence-transformers) (0.1.96)\n",
            "Requirement already satisfied: transformers<5.0.0,>=4.6.0 in /Users/alenakukhta/opt/anaconda3/lib/python3.9/site-packages (from sentence-transformers) (4.20.1)\n",
            "Requirement already satisfied: scikit-learn in /Users/alenakukhta/opt/anaconda3/lib/python3.9/site-packages (from sentence-transformers) (1.0.2)\n",
            "Requirement already satisfied: tqdm in /Users/alenakukhta/opt/anaconda3/lib/python3.9/site-packages (from sentence-transformers) (4.64.0)\n",
            "Requirement already satisfied: huggingface-hub>=0.4.0 in /Users/alenakukhta/opt/anaconda3/lib/python3.9/site-packages (from sentence-transformers) (0.8.1)\n",
            "Requirement already satisfied: scipy in /Users/alenakukhta/opt/anaconda3/lib/python3.9/site-packages (from sentence-transformers) (1.7.3)\n",
            "Requirement already satisfied: numpy in /Users/alenakukhta/opt/anaconda3/lib/python3.9/site-packages (from sentence-transformers) (1.19.5)\n",
            "Requirement already satisfied: torch>=1.6.0 in /Users/alenakukhta/opt/anaconda3/lib/python3.9/site-packages (from sentence-transformers) (1.12.0)\n",
            "Requirement already satisfied: torchvision in /Users/alenakukhta/opt/anaconda3/lib/python3.9/site-packages (from sentence-transformers) (0.13.0)\n",
            "Requirement already satisfied: packaging>=20.9 in /Users/alenakukhta/opt/anaconda3/lib/python3.9/site-packages (from huggingface-hub>=0.4.0->sentence-transformers) (21.3)\n",
            "Requirement already satisfied: requests in /Users/alenakukhta/opt/anaconda3/lib/python3.9/site-packages (from huggingface-hub>=0.4.0->sentence-transformers) (2.27.1)\n",
            "Requirement already satisfied: typing-extensions>=3.7.4.3 in /Users/alenakukhta/opt/anaconda3/lib/python3.9/site-packages (from huggingface-hub>=0.4.0->sentence-transformers) (3.7.4.3)\n",
            "Requirement already satisfied: pyyaml>=5.1 in /Users/alenakukhta/opt/anaconda3/lib/python3.9/site-packages (from huggingface-hub>=0.4.0->sentence-transformers) (6.0)\n",
            "Requirement already satisfied: filelock in /Users/alenakukhta/opt/anaconda3/lib/python3.9/site-packages (from huggingface-hub>=0.4.0->sentence-transformers) (3.6.0)\n",
            "Requirement already satisfied: pyparsing!=3.0.5,>=2.0.2 in /Users/alenakukhta/opt/anaconda3/lib/python3.9/site-packages (from packaging>=20.9->huggingface-hub>=0.4.0->sentence-transformers) (3.0.4)\n",
            "Requirement already satisfied: tokenizers!=0.11.3,<0.13,>=0.11.1 in /Users/alenakukhta/opt/anaconda3/lib/python3.9/site-packages (from transformers<5.0.0,>=4.6.0->sentence-transformers) (0.12.1)\n",
            "Requirement already satisfied: regex!=2019.12.17 in /Users/alenakukhta/opt/anaconda3/lib/python3.9/site-packages (from transformers<5.0.0,>=4.6.0->sentence-transformers) (2022.3.15)\n",
            "Requirement already satisfied: click in /Users/alenakukhta/opt/anaconda3/lib/python3.9/site-packages (from nltk->sentence-transformers) (8.0.4)\n",
            "Requirement already satisfied: joblib in /Users/alenakukhta/opt/anaconda3/lib/python3.9/site-packages (from nltk->sentence-transformers) (1.1.0)\n",
            "Requirement already satisfied: idna<4,>=2.5 in /Users/alenakukhta/opt/anaconda3/lib/python3.9/site-packages (from requests->huggingface-hub>=0.4.0->sentence-transformers) (3.3)\n",
            "Requirement already satisfied: certifi>=2017.4.17 in /Users/alenakukhta/opt/anaconda3/lib/python3.9/site-packages (from requests->huggingface-hub>=0.4.0->sentence-transformers) (2022.5.18.1)\n",
            "Requirement already satisfied: charset-normalizer~=2.0.0 in /Users/alenakukhta/opt/anaconda3/lib/python3.9/site-packages (from requests->huggingface-hub>=0.4.0->sentence-transformers) (2.0.4)\n",
            "Requirement already satisfied: urllib3<1.27,>=1.21.1 in /Users/alenakukhta/opt/anaconda3/lib/python3.9/site-packages (from requests->huggingface-hub>=0.4.0->sentence-transformers) (1.26.9)\n",
            "Requirement already satisfied: threadpoolctl>=2.0.0 in /Users/alenakukhta/opt/anaconda3/lib/python3.9/site-packages (from scikit-learn->sentence-transformers) (2.2.0)\n",
            "Requirement already satisfied: pillow!=8.3.*,>=5.3.0 in /Users/alenakukhta/opt/anaconda3/lib/python3.9/site-packages (from torchvision->sentence-transformers) (9.0.1)\n"
          ]
        }
      ],
      "source": [
        "!pip install -U sentence-transformers"
      ]
    },
    {
      "cell_type": "code",
      "execution_count": null,
      "id": "b1f11777",
      "metadata": {
        "id": "b1f11777"
      },
      "outputs": [],
      "source": [
        "from sentence_transformers import SentenceTransformer, util"
      ]
    },
    {
      "cell_type": "code",
      "execution_count": null,
      "id": "548239ad",
      "metadata": {
        "id": "548239ad"
      },
      "outputs": [],
      "source": [
        "model = SentenceTransformer('symanto/sn-xlm-roberta-base-snli-mnli-anli-xnli')"
      ]
    },
    {
      "cell_type": "code",
      "execution_count": null,
      "id": "9081e9b0",
      "metadata": {
        "id": "9081e9b0"
      },
      "outputs": [],
      "source": [
        "sentences = df[6][:2000] # 1000 sentences"
      ]
    },
    {
      "cell_type": "code",
      "execution_count": null,
      "id": "4bc4e571",
      "metadata": {
        "id": "4bc4e571"
      },
      "outputs": [],
      "source": [
        "embeddings = model.encode(sentences, convert_to_tensor=True)"
      ]
    },
    {
      "cell_type": "code",
      "execution_count": null,
      "id": "22fa7280",
      "metadata": {
        "id": "22fa7280"
      },
      "outputs": [],
      "source": [
        "def get_similar(embeddings, sentence, n):\n",
        "    \"\"\"Get <n> similar embeddings for <sentence> and given embeddings\"\"\"\n",
        "    \n",
        "    assert n > 0, \"Bad n\"\n",
        "    \n",
        "    # Compute embeddings\n",
        "    s_emb =  model.encode([sentence], convert_to_tensor=True)\n",
        "\n",
        "    # Compute cosine-similarities for each sentence\n",
        "    cosine_scores = util.cos_sim(s_emb, embeddings)\n",
        "    \n",
        "    # Compute max n scores indexes\n",
        "    max_scores_idx = np.argpartition(cosine_scores[0], -n)[-n:]\n",
        "    \n",
        "    return cosine_scores, max_scores_idx"
      ]
    },
    {
      "cell_type": "code",
      "execution_count": null,
      "id": "e9ccd2bf",
      "metadata": {
        "id": "e9ccd2bf",
        "outputId": "eb20e531-fcb9-4bcd-cd20-adc94b6d554b"
      },
      "outputs": [
        {
          "data": {
            "text/plain": [
              "\"В британском Кембридже простились с физиком-теоретикомnСтивеном Хокингомn, передаетn«Би-би-си»n.nПрощание с ученым проходило в церкви Святой Марии, на церемонию пришли его родственники, а также около 500 специально приглашенных гостей.nВ частности, на похоронах Хокинга присутствовали основатель Tesla иnSpaceXnИлон Маскn, комик Дара О'Брайен, астрофизикnБрайан Мэйnи другие.nКак отмечается, физика похоронили рядом сnИсааком НьютономnиnЧарльзом Дарвиномnв пантеоне Вестминстерского аббатства.nРанее сообщалось, чтоnбыла обнаружена последняя научная статья Хокингаn.nФизик-теоретик Стивен Хокинг скончался 14 марта в возрасте 76 лет в своем доме в Кембридже.\""
            ]
          },
          "execution_count": 26,
          "metadata": {},
          "output_type": "execute_result"
        }
      ],
      "source": [
        "rnd = np.random.randint(1000, df.shape[0])\n",
        "sentence = df.iloc[rnd, 6]\n",
        "\n",
        "sentence"
      ]
    },
    {
      "cell_type": "code",
      "execution_count": null,
      "id": "d4a95eae",
      "metadata": {
        "id": "d4a95eae"
      },
      "outputs": [],
      "source": [
        "cosine_scores, max_scores_idx = get_similar(embeddings, sentence, 3)"
      ]
    },
    {
      "cell_type": "code",
      "execution_count": null,
      "id": "313dc9dc",
      "metadata": {
        "id": "313dc9dc",
        "outputId": "108b199c-072c-4208-f72c-0d5f50f523f1"
      },
      "outputs": [
        {
          "data": {
            "text/plain": [
              "tensor([0.3239, 0.3558, 0.3398])"
            ]
          },
          "execution_count": 28,
          "metadata": {},
          "output_type": "execute_result"
        }
      ],
      "source": [
        "cosine_scores[0][max_scores_idx]"
      ]
    },
    {
      "cell_type": "code",
      "execution_count": null,
      "id": "099e38b4",
      "metadata": {
        "id": "099e38b4",
        "outputId": "6ec10434-6dcc-45b0-e7c9-283a78eebf97"
      },
      "outputs": [
        {
          "name": "stdout",
          "output_type": "stream",
          "text": [
            "Страдающим мигренью может помочь портативное магнитное устройство. Такие данные были представлены наn3-м Европейском международном целевом конгрессеnголовной боли и мигрени, прошедшего в Лондоне с 20 по 23 сентября, пишетnMedicalNewsTodayn.nНа съезде исследователи представили данные, согласно которым три месяца лечения магнитным стимулятором TMS (Transcranial Magnetic Stimulation) уменьшили головную боль у 73% пациентов. Также у 63% пациентов уменьшились и такие симптомы мигрени, как головокружение, тошнота и проблемы с памятью.nnСуть работы устройства заключается в том, что когда человек чувствует приближение приступа мигрени, он просто подносит его к затылку и нажимает на кнопку. Магнитный стимулятор посылает короткий магнитный импульс в мозг, тем самым предотвращая развитие приступа мигрени и не вызывая серьезных побочных эффектов. Устройство TMS стоит около 500 фунтов стерлингов и размерами похоже на небольшую портативную радиостанцию.nОдин из пациентов, участвующих в испытаниях стимулятора, делится своими впечатлениями: «Ключевым для меня было использовать устройство быстро - как только началась мигрень. Также это снизило мою зависимость от болеутоляющих средств». Профессор и невролог Питер Годсби сообщил прессе: «Для многих страдающих мигренью, которым лекарства просто не помогают, это устройство дает повод для оптимизма».\n",
            "\n",
            "\n",
            "На территории Московского государственного музея-заповедника в Коломенском стартовал чемпионат мира по скульптуре из песка, в котором принимают участие известные мастера со всего света. Как сообщает агентствоnРИА «Новости»n, тема конкурса в 2013 году - «Тайны народов мира».nВ соревновании принимают участие скульпторы из России, Украины, Белоруссии, Италии, Чехии, Польши, Индии и другие. Участники конкурса будут создавать шедевры из песка от 3 до 5 метров в длину.nДля маленьких посетителей праздника на площадке проекта создана большая песочница, где будут проводиться конкурсы по скульптуре из песка для детей.\n",
            "\n",
            "\n",
            "В результате стрельбы на бейсбольной площадке в Александрии, штат Вирджиния, ранения получили пять человек. Среди пострадавших — конгрессмен США Стив Скализ и сотрудник правоохранительных органов. По словам очевидцев, нападавший совершил около 50 выстрелов из полуавтоматического оружия.nТелеканал NBC сообщил, что неизвестный стрелок открыл огонь по группе политиков, присутствовавших на бейсбольной тренировке в одном из пригородов Вашингтона. Сообщается, что стрелок вел огонь по группе, где присутствовал республиканец Стив Скализ, являющийся координатором фракции в палате представителей конгресса США. В результате были ранены сам конгрессмен Скализ и несколько его помощников, всего пострадали не менее пяти человек.nВскоре полиция сообщила, что стрелок задержан. По словам конгрессмена-республиканца Мо Брукса, стрелявшим был белый мужчина среднего возраста. Нападавший вел стрельбу из полуавтоматического оружия и сделал не менее 50 выстрелов.nНа площадке находились не менее 20 конгрессменов, которые готовились к благотворительному матчу. Город Александрия в штате Вирджиния расположен всего в 11 км к югу от американской столицы и является ее пригородом.nВ результате перестрелки также были ранены два сотрудника полиции Капитолия, которые находились в Александрии в качества наряда охраны, уточняют местные СМИ.nЖурналист Ребекка Берг сообщила, что перед нападением стрелок поинтересовался у группы политиков, являются они республиканцами или демократами.n«Мужчина был одет в тренировочный костюм. Он спросил конгрессмена Дункана: «Это республиканцы или демократы там тренируются?» — приводит слова журналиста RT.nБелый дом распространил официальное заявление от лица Дональда Трампа.n«Я и вице-президент осведомлены о происшествии со стрельбой в Вирджинии и внимательно следим за развитием ситуации. Мы огорчены этой трагедией. Наши мысли и молитвы пребывают с членами конгресса, их сотрудниками, полицией Капитолия и всеми причастными», — говорится в заявлении. Примечательно, что 14 июня президенту США исполнился 71 год.nКроме этого, на своей странице в Twitter Трамп назвал пострадавшего конгрессмена «настоящим другом и патриотом».nРеспубликанец Стив Скализ — секретарь партии большинства в палате представителей США, в парламенте он представляет штат Луизиана с 2008 года.nПолитик ранее поддержал указ Дональда Трампа, который собирался наложить временное ограничение на въезд в США граждан из ряда мусульманских стран.n«Необходимо предельно ясно понимать, кто въезжает в США, и не допустить, чтобы среди них были террористы», — заявил конгрессмен.nНеделей ранее трагедия с обезумевшим стрелком произошла в американском городе Орландо. Инцидент произошел в 8 часов утра по местному времени в городе Орландо, штат Флорида. В полицию поступил звонок о том, что в одном из промышленных зданий на Форсит-роуд идет стрельба. Прибыв на место, полицейские обнаружили в офисе местной компании Fiamma Inc. пять трупов. Как позже заявил шериф Демингс,nстрелял уволенный 45-летний сотрудник компании. Ранним утром он пришел на работу и открыл огонь по бывшим коллегам. В числе погибших оказались начальник и трое других бывших сотрудников убийцы. Затем стрелок покончил с собой. Среди убитых, как уточнили в полиции, была одна женщина.nОчередная трагедия с обезумевшим стрелком произошла в американском городе Орландо. Уволенный сотрудник местной компании пришел в офис, застрелил...n→nО личности стрелка известно немного. Кроме возраста полиция сообщила также, что мужчина ранее уже попадал в истории на этом месте работы. Так, три года назад он избил другого сотрудника Fiamma Inc. Однако тогда это сошло ему с рук.nОтмечается, что преступник ранее не был судим. В полиции также заявили, что не считают произошедшее террористическим актом.nСамым громким происшествием за всю историю массовых убийств в США остается стрельба в гей-клубе все в том же Орландо. Инцидент произошел в ночь на воскресенье, 12 июня 2016 года.nОмар Матин пришел в гей-клуб с автоматической винтовкой AR-15 (гражданский аналог М16) и пистолетом. После начала стрельбы очевидцы вызвали полицию, которая перекрыла весь район. Полицейские вступили в перестрелку со злоумышленником, который оказал упорное сопротивление. В итоге злоумышленник был застрелен правоохранителями.nТрагический инцидент в гей-клубе Орландо уже стал самым громким происшествием за всю историю массовых убийств в США. В этом преступлении подозревают...n→nЕго жертвами стали 50 человек, самому младшему из которых — гею по имени Омар Капо — было всего 20 лет.nПозже как минимум пять человек, связанных с ЛГБТ-сообществом, сообщили американским СМИ, что Омар Матин был известен им как завсегдатай бара Pulse и пользователь приложений для гей-знакомств.nВ интервью Orlando Sentinel один из опрошенных людей рассказал, что видел Матина в клубе еще три года назад.n«Иногда он просто садился в углу и пил в одиночестве. Бывало так, что он сильно напивался и начинал вести себя громко и воинственно», — поведал посетитель клуба Тай Смит.nПо его словам, в такие моменты Омар заводил разговоры о его отце, матери и ребенке.nЕще один представитель местного ЛГБТ-сообщества, Кевин Уэст, рассказал The Los Angeles Times, что он переписывался с Матином через приложение Jack'd (согласно описанию в iTunes Store, им пользуются более 5 млн геев).\n",
            "\n",
            "\n"
          ]
        }
      ],
      "source": [
        "for t in sentences[max_scores_idx.tolist()]:\n",
        "    print(t)\n",
        "    print(\"\\n\")"
      ]
    },
    {
      "cell_type": "code",
      "execution_count": null,
      "id": "e93d2d95",
      "metadata": {
        "id": "e93d2d95",
        "outputId": "5d3dcfc7-ab2e-4373-a766-8f5604aed03a"
      },
      "outputs": [
        {
          "name": "stdout",
          "output_type": "stream",
          "text": [
            "Уполномоченный представитель ЛНР на минских переговорах Владислав Дейнего заявил, что руководство самопровозглашенной республики «прекрасно понимает» необходимость возвращения долга Украине, передаетnРИА «Новости»n.nДейнего отметил понимание ЛНР того факта, что вода «действительно поставляется с той территории», а субъекты хозяйствования несут определенные затраты из-за этого.n«Мы прекрасно понимаем, что эти затраты должны возмещаться и субъект хозяйствования должен работать в нормальном режиме, получая плату за предоставленную нам воду. Мы готовы за эту воду платить», — сказал он.n1 декабря Украинаnпрекратилаnподачу воды ЛНР по одному направлению.\n",
            "\n",
            "\n",
            "tensor([0.4487, 0.4694, 0.4992])\n",
            "\n",
            "\n",
            "Общественные организации рассказали о необходимых осужденному экс-министру экономического развития Алексею Улюкаеву вещах. По их словам, находящемуся в СИЗО бывшему чиновнику необходимы теплые вещи. Сам Улюкаев ожидает от семьи передачи лекарств, фруктов и денег на банковскую карту.nБывший министр экономического развития России Алексей Улюкаев, находящийся в СИЗО «Кремлевский централ», попросил теплые вещи, он также надеется, что ему переведут деньги на банковскую карту. Об этом сообщает РИА «Новости» со ссылкой на зампредседателя Общественной наблюдательной комиссии (ОНК) Москвы Еву Меркачеву.n«Сейчас ему нужна теплая одежда, поскольку в камере достаточно прохладно. Обещали, что пока не придет его личная одежда, ему выдадут теплую из резерва СИЗО. Также он рассчитывает, что ему переведут деньги на банковскую карту и он сможет заказывать определенные продукты и горячие обеды, пользуясь внутренним электронным магазином в СИЗО», — заявила Меркачева.nОна добавила, что Улюкаев не имел особых претензий к своему местонахождению в изоляторе и местной еде. По словам общественника, экс-министр рассчитывает, что на свидании с родственниками ему будут переданы лекарства.nПриговор экс-министру был вынесен 15 декабря. Улюкаева приговорили к восьми годам лишения свободы и выплате штрафа в размере однократном размеру взятки — около 130 млн рублей.nСуд признал смягчающими обстоятельствами наличие у экс-министра несовершеннолетних детей и престарелых родителей. Гособвинитель в ходе прений сторон требовал приговорить Улюкаева к 10 годам колонии и штраф в 500 млн рублей. Сам экс-министр заявлял, что невиновен, и просил суд его оправдать.nЗащита уже заявила о своем намерении обжаловать приговор. После судебного заседания экс-министр был отправлен в СИЗО. На следующий день Улюкаев поделился с журналистами «Московского комсомольца» своими впечатлениями от первой ночи в изоляторе.nУлюкаев содержится в Федеральном изоляторе № 1, который называют «кремлевским централом». В него отправляют осужденных экс-чиновников, однако там содержатся и простые обвиненные. Арестанты, узнав о прибытии экс-министра, просили поселить его к ним. Тем не менее сам Улюкаев заявил, что нуждается в одиночестве.n«Сыт по горло общением. Если это возможно, я бы хотел остаться хоть на какое-то время один. Мне будет психологически трудно, если в камере появятся новые люди»,n— сказал Улюкаев. Экс-министр рассказал, что у него «не было иллюзий по поводу несправедливого приговора», однако он не рассчитывал, что до апелляции его отправят в СИЗО. Поэтому не взял с собой практически ничего, кроме носков и трусов.nГоворя о питании в изоляторе, Улюкаев отметил, что неприхотлив в еде. «Я вообще не привередливый. Завтрак был. Каша-сечка. Я все съел. И без передач и посылок смогут прожить сколько угодно. Здесь все хорошо, чисто, светло. Все в порядке. Быть в одиночестве сейчас для меня большая ценность, чем все остальное», — заявил он.nОсужденного экс-чиновника удивило, что руководство изолятора не разрешило ему носить часы, хотя все там идет по распорядку. На вопрос о том, как ему спится, Улюкаев признался, что в последнее время спит тревожно. В конце интервью он поблагодарил журналистов. «Спасибо вам за то, что волнуетесь. Передайте всем слова благодарности.nМеня как-то спросили журналисты на суде — какой смысл во всей этой истории? Я ответил: «Может быть, она принесет пользу стране»,n— заключил Улюкаев.nИ хотя сам экс-министр говорит о своей неприхотливости, общественники проявили обеспокоенность теми условиями, в которых оказался осужденный чиновник. Ответственный секретарь ОНК Москвы Иван Мельников после осмотра помещения заявил, что в камере следственного изолятора нет матраса и сиденья на унитазе.nМельников рассказал, что члены ОНК попросили администрацию СИЗО в ближайшее время перевести экс-министра из сборного отделения в обычную камеру. По его словам, в настоящий момент у Улюкаева отсутствуют условия для нормального пребывания. «Банально там нет гигиенических принадлежностей, матраса, отсутствует сиденье на унитазе. Представители администрации заверили, что в скором времени экс-министра переведут», — сказал Мельников.\n",
            "\n",
            "\n",
            "Глава Краснодарского края Вениамин Кондратьев очень живо отреагировал на слова министра инфраструктуры Украины Владимира Омеляна, объявившего Кубань «захваченной украинской территорией». Он посоветовал Киеву «не дразнить казачество, которое всегда защищало Кубань как часть российской земли». Еще в июне 2016 года председатель Донецкой военно-гражданской администрации Павел Жебривский заявил, что Украине следует «вернуть исконно украинские земли», находящиеся в составе России.nГубернатор Краснодарского края Вениамин Кондратьев прокомментировал журналистам заявление министра инфраструктуры Украины Владимира Омеляна, объявившего Кубань захваченной украинской территорией.n«Если у Украины существует дефицит сельскохозяйственной продукции и продуктов питания, то это не значит, что его надо решать за счет Кубани. Когда Екатерина II жаловала запорожским казакам в пользование российскую землю для создания казачьих куреней, она не могла взять в расчет продовольственные проблемы современной Украины, не существующей на тот временной исторический период как таковой», — заявил глава региона.nОн также выразил готовность поспособствовать повышению уровня образования украинских чиновников.n«Мы готовы отправить министру Омеляну партию учебников по истории и географии для восполнения пробела в знаниях. И не надо дразнить казачество, которое всегда защищало Кубань как часть российской земли. Кубань никогда не была и не будет украинской», — сказал Кондратьев.nТакое заявление глава региона сделал в ответ на слова Омеляна о том, что восстановления авиасообщения с Россией по примеру Грузии ожидать не стоит, а также назвал условия возобновления полетов.n«Я думаю, что мы восстановим авиасообщение с Россией только после возвращения Крыма, востока Украины и, надеюсь, Кубани и других украинских территорий, которые были захвачены Россией в свое время», — сказал украинский министр.nВ июне 2016 года председатель Донецкой военно-гражданской администрации Павел Жебривский заявил, что Украине следует «вернуть исконно украинские земли», находящиеся в составе России.n«Рано или поздно мы должны вернуть исконно украинские земли — Курщину, Брянщину, Воронежчину, Ростовщину и Краснодарский край. Это там, где есть украинская сущность, украинская ментальность. И даже говорить про то, что мы готовы пожертвовать частью Донеччины и Луганщины, это, на самом деле, неправильно», — заявил Жебривский.nГод спустя — в апреле 2017 года — Жебривский в ходе заседания коллегии областной государственной администрации «анонсировал» присоединение части Ростовской области к Украине.n«Сейчас мы отстаиваем Донбасс. А уже после начнем восстанавливать Донбасс. Потому что Донбасс это Луганская и Ростовская области», — сказал он.nЖебривский добавил, что поддерживает возвращение Ростовской области «в лоно Украины».nВ ответ на это депутат Госдумы от Брянской области Петр Романов в интервью радиостанции «Говорит Москва» заявил, что эти земли, напротив, исконно русские.n«Если мы глянем с вами на карту 1917 года, то увидим, какой была маленькой Украина и какой она стала, когда большевики, руководствуясь самыми гуманными принципами, наделили ее громадными землями», — сказал парламентарий.nОн предложил донецкому губернатору сначала пожить на Чукотке, где минус 50, а «потом смотреть на наши благоустроенные, нормальные области».n«Это вообще недопустимо высказывать такие мысли. Человека с нездоровой психикой нужно лечить, а не комментировать его бредовые высказывания», — подытожил он.nСенат Франции принял резолюцию о «постепенном смягчении» режима санкций, введенных Евросоюзом. Также против продления санкций выступают...n→nВ марте 2017 года депутат Верховной рады, бывший лидер запрещенной в России экстремистской организации «Правый сектор» Дмитрий Ярош «предрек» захват украинской армией Краснодарского края, Воронежской и Белгородской областей.n«Там миллионы и миллионы украинцев. Многие из них стали янычарами, но есть и те, кто выступает за независимость. Кубань будет наша. Если они вдруг мост построят, он как раз нам будет нужен: здесь вот Крым наш, а тут Кубань наша. А еще Белгородчина, Воронежчина. У нас есть перспектива расширения нашей державы», — заявил тогда Ярош.nВ 2016 году «Коммунисты России» решили обратиться в Европейский суд по правам человека после того, как на репетиции «Евровидения» за спиной украинской певицы Джамалы появился контур Украины, в которую были включены Крым и Краснодарский край.nПо сообщениям СМИ, в случае с контуром границ Украины ошибку при монтаже презентации допустили организаторы конкурса. Между тем, по мнению «Коммунистов России», данное действие было не ошибкой, а хорошо спланированной провокацией.\n",
            "\n",
            "\n",
            "Президент РФ Владимир Путин выразил недоумение по поводу ситуации, когда пострадавшим из-за паводков жителям Ставрополья пришлось платить деньги, чтобы получить от государства компенсацию. По словам главы Счетной палаты Татьяны Голиковой, с пострадавших взималась плата за справки об ущербе, затем — комиссия за возврат этих средств, при этом некоторые люди не смогли воспользоваться компенсацией из-за долгов.nПрезидент России Владимир Путин осведомился на встрече с главой Счетной палаты Татьяны Голиковой об исполнении поручений, отданных им после «прямой линии» 15 июня. В частности, президент поинтересовался у Голиковой, как обстоят дела с выплатами компенсаций жителям Ставропольского края, пострадавшим из-за паводков в мае 2017 года.nГлава Счетной палаты сообщила, что еще не урегулирован вопрос о компенсации выплат, осуществленных местными властями из государственной казны. По ее словам, такая ситуация сложилась не в последнюю очередь из-за неаккуратности руководства некоторых муниципальных образований.n«Те недостатки, которые в том числе и мы увидели — задвоенность выплат, разного рода подчистки в документах, предоставление выплат не тем, кому нужно, — это все мы передали в прокуратуру», — доложила президенту Голикова.nВ ходе обсуждения ситуации со Ставропольем Владимир Путин назвал «чушью» ситуацию, когда у людей, пострадавших в результате наводнений, требовали платы за справки, необходимые для получения компенсации при ЧС.nКак сообщила главе РФ Татьяна Голикова, экспертные организации, которые выдавали документ, подтверждающий, что жилье пострадавших пришло в негодность, требовали с людей деньги за справки. В итоге, чтобы получить компенсацию, людям приходилось самим заплатить 5–6 тыс. рублей.n«Это чушь какая-то», — прокомментировал услышанное Путин.nГоликова уточнила, что в конце концов пострадавшим вернули деньги, заплаченные за справки. Однако и здесь не обошлось без трудностей: при возврате денег подразделения банков списывали с жителей Ставрополья комиссию за возврат платежа, продолжила Голикова. Глава Счетной палаты заверила, что сейчас этот вопрос урегулировали, а деньги были возвращены гражданам.n«Вы проверьте, возвращены или нет, первое. И второе, нужно нормативно отрегулировать раз и навсегда, чтобы такой ерунды не было. Люди остались без копейки, государство деньги выделяет, чтобы их поддержать, а с них еще кто-то, какие-то структуры сдирают по тысяче, по три, по пять», — возмутился Путин.nГоликова доложила президенту и о другой проблеме. По ее словам,nкогда деньги наконец оказывались на счетах пострадавших от чрезвычайной ситуации граждан, служба исполнения наказаний (вероятно, имелась в виду Федеральная служба судебных приставов. — «Газета.Ru») списывала поступившие средства со счетов, если их получатели являлись должниками.n«Граждане не могли, естественно, воспользоваться теми ресурсами, которые им по ЧС платили», — сказала Голикова и подчеркнула, что данная ситуация также требует урегулирования.n«Вы сделайте, пожалуйста, предложения, какие изменения нужно внести в нормативную базу», — повторил свою просьбу Путин.nЗаместитель председателя правительства Ставрополья Лариса Калинченко подтвердила, что представители Счетной палаты проверили информацию о платных справках и обязали местные власти вернуть гражданам по 6,8 тыс. рублей — столько пострадавшие заплатили за саму справку о непригодности жилья (1,8 тыс. рублей) и проведение осмотра домов, необходимого для выдачи этой справки (5 тыс. рублей). При этом Калинченко обратила внимание на тот факт, что в самой процедуре никаких юридических нарушений нет.n«Такие справки и, собственно, обследование жилья для признания его аварийным действительно платные, то есть законодательно ничего нарушено не было. Тем не менее в паводок стояла задача максимально снизить нагрузку на каждого пострадавшего. Потому принято решение эти деньги возвратить, и эта задача выполнена в полном объеме», — отчиталась Калинченко.nНапомним, что на «прямой линии» 15 июня жительница Ставрополья спросила Путина о компенсации ущерба из-за паводков. Президента возмутило, что женщине негде жить, а компенсацию от государства она так и не получила.n«То, что вы рассказываете, в голове не укладывается! Вам 10 тысяч выделили? А 50 тысяч?» — сказал президент. Путин в прямом эфире потребовал объяснений у губернатора Ставрополья Владимира Владимирова. «Хочу задать вопрос своему тезке: Владимир Владимирович, где деньги?» — спросил Путин.nВладимиров ответил на этот вопрос в тот же день. Он заявил, что семья жительницы Краснокумского района Ставропольского края, которая рассказала президенту, получила деньги. «Эта семья получила денежные средства в полном объеме, то есть 60 тыс. рублей они получили», — заверил Владимиров.\n",
            "\n",
            "\n"
          ]
        }
      ],
      "source": [
        "rnd = np.random.randint(1000, df.shape[0])\n",
        "sentence = df.iloc[rnd, 6]\n",
        "\n",
        "print(sentence)\n",
        "\n",
        "cosine_scores, max_scores_idx = get_similar(embeddings, sentence, 3)\n",
        "print(\"\\n\")\n",
        "print(cosine_scores[0][max_scores_idx])\n",
        "print(\"\\n\")\n",
        "\n",
        "for t in sentences[max_scores_idx.tolist()]:\n",
        "    print(t)\n",
        "    print(\"\\n\")"
      ]
    },
    {
      "cell_type": "markdown",
      "id": "47752e90",
      "metadata": {
        "id": "47752e90"
      },
      "source": [
        "**Вывод:** Улавливается контекст. Довольно сносный результат."
      ]
    }
  ],
  "metadata": {
    "kernelspec": {
      "display_name": "Python 3 (ipykernel)",
      "language": "python",
      "name": "python3"
    },
    "language_info": {
      "codemirror_mode": {
        "name": "ipython",
        "version": 3
      },
      "file_extension": ".py",
      "mimetype": "text/x-python",
      "name": "python",
      "nbconvert_exporter": "python",
      "pygments_lexer": "ipython3",
      "version": "3.9.12"
    },
    "colab": {
      "name": "Lesson_11.ipynb",
      "provenance": []
    }
  },
  "nbformat": 4,
  "nbformat_minor": 5
}