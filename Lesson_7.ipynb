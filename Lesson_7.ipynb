{
  "cells": [
    {
      "cell_type": "markdown",
      "metadata": {
        "id": "2Xnx-Z073fXU"
      },
      "source": [
        "Берем отызывы за лето (из архива с материалами или предыдущего занятия)\n",
        "1. Учим conv сеть для классификации.\n",
        "2. Рассмотреть 2-а варианта:\n",
        "* Инициализировать tf.keras.layers.Embedding предобученными векторами (зять к примеру с https://rusvectores.org/ru/.)\n",
        "* Инициализировать слой tf.keras.layers.Embedding по умолчанию.\n",
        "3. Сделать вывод"
      ]
    },
    {
      "cell_type": "code",
      "source": [
        "!pip install stop_words"
      ],
      "metadata": {
        "colab": {
          "base_uri": "https://localhost:8080/"
        },
        "id": "TpD_1RWD3ltj",
        "outputId": "562b0e1a-886f-4753-cb9b-70a2a68c7a8c"
      },
      "execution_count": 1,
      "outputs": [
        {
          "output_type": "stream",
          "name": "stdout",
          "text": [
            "Looking in indexes: https://pypi.org/simple, https://us-python.pkg.dev/colab-wheels/public/simple/\n",
            "Requirement already satisfied: stop_words in /usr/local/lib/python3.7/dist-packages (2018.7.23)\n"
          ]
        }
      ]
    },
    {
      "cell_type": "code",
      "source": [
        "!pip install pymorphy2"
      ],
      "metadata": {
        "colab": {
          "base_uri": "https://localhost:8080/"
        },
        "id": "cOBzFJQn3nUL",
        "outputId": "c7e4b108-d9e9-4b24-fa93-8543352807b7"
      },
      "execution_count": 2,
      "outputs": [
        {
          "output_type": "stream",
          "name": "stdout",
          "text": [
            "Looking in indexes: https://pypi.org/simple, https://us-python.pkg.dev/colab-wheels/public/simple/\n",
            "Requirement already satisfied: pymorphy2 in /usr/local/lib/python3.7/dist-packages (0.9.1)\n",
            "Requirement already satisfied: docopt>=0.6 in /usr/local/lib/python3.7/dist-packages (from pymorphy2) (0.6.2)\n",
            "Requirement already satisfied: dawg-python>=0.7.1 in /usr/local/lib/python3.7/dist-packages (from pymorphy2) (0.7.2)\n",
            "Requirement already satisfied: pymorphy2-dicts-ru<3.0,>=2.4 in /usr/local/lib/python3.7/dist-packages (from pymorphy2) (2.4.417127.4579844)\n"
          ]
        }
      ]
    },
    {
      "cell_type": "code",
      "source": [
        "!pip install navec"
      ],
      "metadata": {
        "colab": {
          "base_uri": "https://localhost:8080/"
        },
        "id": "__BX7o7j3qLT",
        "outputId": "f8970521-2604-48ff-b6d0-f842885eb158"
      },
      "execution_count": 3,
      "outputs": [
        {
          "output_type": "stream",
          "name": "stdout",
          "text": [
            "Looking in indexes: https://pypi.org/simple, https://us-python.pkg.dev/colab-wheels/public/simple/\n",
            "Requirement already satisfied: navec in /usr/local/lib/python3.7/dist-packages (0.10.0)\n",
            "Requirement already satisfied: numpy in /usr/local/lib/python3.7/dist-packages (from navec) (1.21.6)\n"
          ]
        }
      ]
    },
    {
      "cell_type": "code",
      "execution_count": 4,
      "metadata": {
        "ExecuteTime": {
          "end_time": "2021-08-21T16:17:26.212242Z",
          "start_time": "2021-08-21T16:17:25.769230Z"
        },
        "id": "IIxr3BRk3fXW"
      },
      "outputs": [],
      "source": [
        "import numpy as np\n",
        "import pandas as pd\n",
        "import warnings\n",
        "warnings.filterwarnings('ignore')\n",
        "pd.set_option('display.float_format', '{:.2f}'.format)"
      ]
    },
    {
      "cell_type": "code",
      "execution_count": 5,
      "metadata": {
        "ExecuteTime": {
          "end_time": "2021-08-21T16:17:30.678230Z",
          "start_time": "2021-08-21T16:17:26.214230Z"
        },
        "id": "SCtBKcqC3fXX"
      },
      "outputs": [],
      "source": [
        "from string import punctuation\n",
        "from stop_words import get_stop_words\n",
        "from pymorphy2 import MorphAnalyzer\n",
        "import re\n",
        "from spacy.lang.ru.stop_words import STOP_WORDS\n",
        "from nltk.tokenize import word_tokenize\n",
        "from nltk.probability import FreqDist\n",
        "from sklearn.model_selection import train_test_split\n",
        "from sklearn.preprocessing import LabelEncoder\n",
        "from navec import Navec"
      ]
    },
    {
      "cell_type": "code",
      "source": [
        "!pip install xlrd==1.2.0"
      ],
      "metadata": {
        "colab": {
          "base_uri": "https://localhost:8080/"
        },
        "id": "Yz8NJD4Z38zE",
        "outputId": "298ba687-e44a-4fb8-ebc3-e0c19b609c13"
      },
      "execution_count": 6,
      "outputs": [
        {
          "output_type": "stream",
          "name": "stdout",
          "text": [
            "Looking in indexes: https://pypi.org/simple, https://us-python.pkg.dev/colab-wheels/public/simple/\n",
            "Requirement already satisfied: xlrd==1.2.0 in /usr/local/lib/python3.7/dist-packages (1.2.0)\n"
          ]
        }
      ]
    },
    {
      "cell_type": "code",
      "execution_count": 7,
      "metadata": {
        "ExecuteTime": {
          "end_time": "2021-08-21T16:17:31.173249Z",
          "start_time": "2021-08-21T16:17:30.680230Z"
        },
        "id": "LJVtRLUR3fXX"
      },
      "outputs": [],
      "source": [
        "import tensorflow as tf\n",
        "from tensorflow.keras.models import Sequential, Model\n",
        "from tensorflow.keras.layers import Dense, Dropout, Activation, Input, Embedding, Conv1D, GlobalMaxPool1D\n",
        "from tensorflow.keras.preprocessing.text import Tokenizer\n",
        "from tensorflow.keras.preprocessing.sequence import pad_sequences\n",
        "from tensorflow.keras.utils import to_categorical, get_file\n",
        "from tensorflow.keras.callbacks import TensorBoard \n",
        "from tensorflow.keras.losses import categorical_crossentropy, SparseCategoricalCrossentropy\n",
        "from tensorflow.keras.callbacks import EarlyStopping\n",
        "from tensorflow.keras.optimizers import Adam\n",
        "from tensorflow.keras.initializers import Constant"
      ]
    },
    {
      "cell_type": "markdown",
      "metadata": {
        "id": "yOpxkGQJ3fXY"
      },
      "source": [
        "*****************************"
      ]
    },
    {
      "cell_type": "code",
      "execution_count": 8,
      "metadata": {
        "ExecuteTime": {
          "end_time": "2021-08-21T16:17:31.189242Z",
          "start_time": "2021-08-21T16:17:31.174230Z"
        },
        "id": "NDjL6lc63fXY"
      },
      "outputs": [],
      "source": [
        "MAX_WORDS = 2000\n",
        "MAX_LEN = 100"
      ]
    },
    {
      "cell_type": "code",
      "execution_count": 9,
      "metadata": {
        "ExecuteTime": {
          "end_time": "2021-08-21T16:17:31.612249Z",
          "start_time": "2021-08-21T16:17:31.190242Z"
        },
        "colab": {
          "base_uri": "https://localhost:8080/",
          "height": 206
        },
        "id": "xre3DBCK3fXY",
        "outputId": "56502590-b797-4454-e5f5-c1c61edddef2"
      },
      "outputs": [
        {
          "output_type": "execute_result",
          "data": {
            "text/plain": [
              "       Rating                                            Content        Date\n",
              "4580        4  Очень удобно и быстро работать, спасибо большо...  2017-08-07\n",
              "10859       4                               Все понятно и легко.  2017-07-29\n",
              "311         4     Отличное приложение сплошная экономия времени😎  2017-08-13\n",
              "13944       4                                               норм  2017-07-24\n",
              "6120        1  Очень тупит, плохо заходит, вечная ошибка Плох...  2017-08-05"
            ],
            "text/html": [
              "\n",
              "  <div id=\"df-cdab5907-34f7-4e58-963c-9cc2a814cc1a\">\n",
              "    <div class=\"colab-df-container\">\n",
              "      <div>\n",
              "<style scoped>\n",
              "    .dataframe tbody tr th:only-of-type {\n",
              "        vertical-align: middle;\n",
              "    }\n",
              "\n",
              "    .dataframe tbody tr th {\n",
              "        vertical-align: top;\n",
              "    }\n",
              "\n",
              "    .dataframe thead th {\n",
              "        text-align: right;\n",
              "    }\n",
              "</style>\n",
              "<table border=\"1\" class=\"dataframe\">\n",
              "  <thead>\n",
              "    <tr style=\"text-align: right;\">\n",
              "      <th></th>\n",
              "      <th>Rating</th>\n",
              "      <th>Content</th>\n",
              "      <th>Date</th>\n",
              "    </tr>\n",
              "  </thead>\n",
              "  <tbody>\n",
              "    <tr>\n",
              "      <th>4580</th>\n",
              "      <td>4</td>\n",
              "      <td>Очень удобно и быстро работать, спасибо большо...</td>\n",
              "      <td>2017-08-07</td>\n",
              "    </tr>\n",
              "    <tr>\n",
              "      <th>10859</th>\n",
              "      <td>4</td>\n",
              "      <td>Все понятно и легко.</td>\n",
              "      <td>2017-07-29</td>\n",
              "    </tr>\n",
              "    <tr>\n",
              "      <th>311</th>\n",
              "      <td>4</td>\n",
              "      <td>Отличное приложение сплошная экономия времени😎</td>\n",
              "      <td>2017-08-13</td>\n",
              "    </tr>\n",
              "    <tr>\n",
              "      <th>13944</th>\n",
              "      <td>4</td>\n",
              "      <td>норм</td>\n",
              "      <td>2017-07-24</td>\n",
              "    </tr>\n",
              "    <tr>\n",
              "      <th>6120</th>\n",
              "      <td>1</td>\n",
              "      <td>Очень тупит, плохо заходит, вечная ошибка Плох...</td>\n",
              "      <td>2017-08-05</td>\n",
              "    </tr>\n",
              "  </tbody>\n",
              "</table>\n",
              "</div>\n",
              "      <button class=\"colab-df-convert\" onclick=\"convertToInteractive('df-cdab5907-34f7-4e58-963c-9cc2a814cc1a')\"\n",
              "              title=\"Convert this dataframe to an interactive table.\"\n",
              "              style=\"display:none;\">\n",
              "        \n",
              "  <svg xmlns=\"http://www.w3.org/2000/svg\" height=\"24px\"viewBox=\"0 0 24 24\"\n",
              "       width=\"24px\">\n",
              "    <path d=\"M0 0h24v24H0V0z\" fill=\"none\"/>\n",
              "    <path d=\"M18.56 5.44l.94 2.06.94-2.06 2.06-.94-2.06-.94-.94-2.06-.94 2.06-2.06.94zm-11 1L8.5 8.5l.94-2.06 2.06-.94-2.06-.94L8.5 2.5l-.94 2.06-2.06.94zm10 10l.94 2.06.94-2.06 2.06-.94-2.06-.94-.94-2.06-.94 2.06-2.06.94z\"/><path d=\"M17.41 7.96l-1.37-1.37c-.4-.4-.92-.59-1.43-.59-.52 0-1.04.2-1.43.59L10.3 9.45l-7.72 7.72c-.78.78-.78 2.05 0 2.83L4 21.41c.39.39.9.59 1.41.59.51 0 1.02-.2 1.41-.59l7.78-7.78 2.81-2.81c.8-.78.8-2.07 0-2.86zM5.41 20L4 18.59l7.72-7.72 1.47 1.35L5.41 20z\"/>\n",
              "  </svg>\n",
              "      </button>\n",
              "      \n",
              "  <style>\n",
              "    .colab-df-container {\n",
              "      display:flex;\n",
              "      flex-wrap:wrap;\n",
              "      gap: 12px;\n",
              "    }\n",
              "\n",
              "    .colab-df-convert {\n",
              "      background-color: #E8F0FE;\n",
              "      border: none;\n",
              "      border-radius: 50%;\n",
              "      cursor: pointer;\n",
              "      display: none;\n",
              "      fill: #1967D2;\n",
              "      height: 32px;\n",
              "      padding: 0 0 0 0;\n",
              "      width: 32px;\n",
              "    }\n",
              "\n",
              "    .colab-df-convert:hover {\n",
              "      background-color: #E2EBFA;\n",
              "      box-shadow: 0px 1px 2px rgba(60, 64, 67, 0.3), 0px 1px 3px 1px rgba(60, 64, 67, 0.15);\n",
              "      fill: #174EA6;\n",
              "    }\n",
              "\n",
              "    [theme=dark] .colab-df-convert {\n",
              "      background-color: #3B4455;\n",
              "      fill: #D2E3FC;\n",
              "    }\n",
              "\n",
              "    [theme=dark] .colab-df-convert:hover {\n",
              "      background-color: #434B5C;\n",
              "      box-shadow: 0px 1px 3px 1px rgba(0, 0, 0, 0.15);\n",
              "      filter: drop-shadow(0px 1px 2px rgba(0, 0, 0, 0.3));\n",
              "      fill: #FFFFFF;\n",
              "    }\n",
              "  </style>\n",
              "\n",
              "      <script>\n",
              "        const buttonEl =\n",
              "          document.querySelector('#df-cdab5907-34f7-4e58-963c-9cc2a814cc1a button.colab-df-convert');\n",
              "        buttonEl.style.display =\n",
              "          google.colab.kernel.accessAllowed ? 'block' : 'none';\n",
              "\n",
              "        async function convertToInteractive(key) {\n",
              "          const element = document.querySelector('#df-cdab5907-34f7-4e58-963c-9cc2a814cc1a');\n",
              "          const dataTable =\n",
              "            await google.colab.kernel.invokeFunction('convertToInteractive',\n",
              "                                                     [key], {});\n",
              "          if (!dataTable) return;\n",
              "\n",
              "          const docLinkHtml = 'Like what you see? Visit the ' +\n",
              "            '<a target=\"_blank\" href=https://colab.research.google.com/notebooks/data_table.ipynb>data table notebook</a>'\n",
              "            + ' to learn more about interactive tables.';\n",
              "          element.innerHTML = '';\n",
              "          dataTable['output_type'] = 'display_data';\n",
              "          await google.colab.output.renderOutput(dataTable, element);\n",
              "          const docLink = document.createElement('div');\n",
              "          docLink.innerHTML = docLinkHtml;\n",
              "          element.appendChild(docLink);\n",
              "        }\n",
              "      </script>\n",
              "    </div>\n",
              "  </div>\n",
              "  "
            ]
          },
          "metadata": {},
          "execution_count": 9
        }
      ],
      "source": [
        "data = pd.read_excel('/content/отзывы за лето.xls')\n",
        "le = LabelEncoder()\n",
        "data['Rating'] = le.fit_transform(data['Rating'])\n",
        "data.sample(5)"
      ]
    },
    {
      "cell_type": "code",
      "execution_count": 10,
      "metadata": {
        "ExecuteTime": {
          "end_time": "2021-08-21T16:17:31.866496Z",
          "start_time": "2021-08-21T16:17:31.613231Z"
        },
        "id": "IXSAYcJu3fXZ"
      },
      "outputs": [],
      "source": [
        "sw = set((get_stop_words(\"ru\") + list(STOP_WORDS))) - {'не', 'ни', 'нет'}\n",
        "exclude = set(punctuation)\n",
        "morpher = MorphAnalyzer()\n",
        "\n",
        "def preprocess_text(txt, exclude=exclude, sw=sw, morpher=morpher):\n",
        "    txt = str(txt)\n",
        "    txt = \"\".join(c for c in txt if c not in exclude)\n",
        "    txt = txt.lower()\n",
        "#     txt = re.sub(\"не\\s\", \"не\", txt)\n",
        "    txt = [morpher.parse(word)[0].normal_form for word in txt.split() if word not in sw]\n",
        "    return \" \".join(txt)"
      ]
    },
    {
      "cell_type": "code",
      "execution_count": 11,
      "metadata": {
        "ExecuteTime": {
          "end_time": "2021-08-21T16:17:54.590503Z",
          "start_time": "2021-08-21T16:17:31.868486Z"
        },
        "id": "Mio3pOSW3fXa"
      },
      "outputs": [],
      "source": [
        "data['preprocessed_text'] = data['Content'].apply(preprocess_text)"
      ]
    },
    {
      "cell_type": "code",
      "execution_count": 12,
      "metadata": {
        "ExecuteTime": {
          "end_time": "2021-08-21T16:17:54.606487Z",
          "start_time": "2021-08-21T16:17:54.592496Z"
        },
        "colab": {
          "base_uri": "https://localhost:8080/",
          "height": 206
        },
        "id": "94PnCjT43fXa",
        "outputId": "96461d9a-bdf8-499b-cc7a-11bc6aad2678"
      },
      "outputs": [
        {
          "output_type": "execute_result",
          "data": {
            "text/plain": [
              "       Rating                                            Content        Date  \\\n",
              "9671        4  Поставил из-за того, что SMS-ки стали приходит...  2017-07-31   \n",
              "4078        4  Очень удобное приложение! И самое главное-неза...  2017-08-08   \n",
              "16166       3  В целом неплохо; бывает, при входе с паролем д...  2017-07-19   \n",
              "3562        0    Такое же шовного как и весь охреневший сбербанк  2017-08-09   \n",
              "16050       4                                          Все супер  2017-07-20   \n",
              "\n",
              "                                       preprocessed_text  \n",
              "9671   поставить изз smsка приходить компьютер больши...  \n",
              "4078   удобный приложение главноенезаменимоедажа пожа...  \n",
              "16166  целое неплохо вход пароль грузить выкидывать с...  \n",
              "3562                           шовный охренесть сбербанк  \n",
              "16050                                              супер  "
            ],
            "text/html": [
              "\n",
              "  <div id=\"df-0de1b6dd-88ad-4881-9afd-580119d3516a\">\n",
              "    <div class=\"colab-df-container\">\n",
              "      <div>\n",
              "<style scoped>\n",
              "    .dataframe tbody tr th:only-of-type {\n",
              "        vertical-align: middle;\n",
              "    }\n",
              "\n",
              "    .dataframe tbody tr th {\n",
              "        vertical-align: top;\n",
              "    }\n",
              "\n",
              "    .dataframe thead th {\n",
              "        text-align: right;\n",
              "    }\n",
              "</style>\n",
              "<table border=\"1\" class=\"dataframe\">\n",
              "  <thead>\n",
              "    <tr style=\"text-align: right;\">\n",
              "      <th></th>\n",
              "      <th>Rating</th>\n",
              "      <th>Content</th>\n",
              "      <th>Date</th>\n",
              "      <th>preprocessed_text</th>\n",
              "    </tr>\n",
              "  </thead>\n",
              "  <tbody>\n",
              "    <tr>\n",
              "      <th>9671</th>\n",
              "      <td>4</td>\n",
              "      <td>Поставил из-за того, что SMS-ки стали приходит...</td>\n",
              "      <td>2017-07-31</td>\n",
              "      <td>поставить изз smsка приходить компьютер больши...</td>\n",
              "    </tr>\n",
              "    <tr>\n",
              "      <th>4078</th>\n",
              "      <td>4</td>\n",
              "      <td>Очень удобное приложение! И самое главное-неза...</td>\n",
              "      <td>2017-08-08</td>\n",
              "      <td>удобный приложение главноенезаменимоедажа пожа...</td>\n",
              "    </tr>\n",
              "    <tr>\n",
              "      <th>16166</th>\n",
              "      <td>3</td>\n",
              "      <td>В целом неплохо; бывает, при входе с паролем д...</td>\n",
              "      <td>2017-07-19</td>\n",
              "      <td>целое неплохо вход пароль грузить выкидывать с...</td>\n",
              "    </tr>\n",
              "    <tr>\n",
              "      <th>3562</th>\n",
              "      <td>0</td>\n",
              "      <td>Такое же шовного как и весь охреневший сбербанк</td>\n",
              "      <td>2017-08-09</td>\n",
              "      <td>шовный охренесть сбербанк</td>\n",
              "    </tr>\n",
              "    <tr>\n",
              "      <th>16050</th>\n",
              "      <td>4</td>\n",
              "      <td>Все супер</td>\n",
              "      <td>2017-07-20</td>\n",
              "      <td>супер</td>\n",
              "    </tr>\n",
              "  </tbody>\n",
              "</table>\n",
              "</div>\n",
              "      <button class=\"colab-df-convert\" onclick=\"convertToInteractive('df-0de1b6dd-88ad-4881-9afd-580119d3516a')\"\n",
              "              title=\"Convert this dataframe to an interactive table.\"\n",
              "              style=\"display:none;\">\n",
              "        \n",
              "  <svg xmlns=\"http://www.w3.org/2000/svg\" height=\"24px\"viewBox=\"0 0 24 24\"\n",
              "       width=\"24px\">\n",
              "    <path d=\"M0 0h24v24H0V0z\" fill=\"none\"/>\n",
              "    <path d=\"M18.56 5.44l.94 2.06.94-2.06 2.06-.94-2.06-.94-.94-2.06-.94 2.06-2.06.94zm-11 1L8.5 8.5l.94-2.06 2.06-.94-2.06-.94L8.5 2.5l-.94 2.06-2.06.94zm10 10l.94 2.06.94-2.06 2.06-.94-2.06-.94-.94-2.06-.94 2.06-2.06.94z\"/><path d=\"M17.41 7.96l-1.37-1.37c-.4-.4-.92-.59-1.43-.59-.52 0-1.04.2-1.43.59L10.3 9.45l-7.72 7.72c-.78.78-.78 2.05 0 2.83L4 21.41c.39.39.9.59 1.41.59.51 0 1.02-.2 1.41-.59l7.78-7.78 2.81-2.81c.8-.78.8-2.07 0-2.86zM5.41 20L4 18.59l7.72-7.72 1.47 1.35L5.41 20z\"/>\n",
              "  </svg>\n",
              "      </button>\n",
              "      \n",
              "  <style>\n",
              "    .colab-df-container {\n",
              "      display:flex;\n",
              "      flex-wrap:wrap;\n",
              "      gap: 12px;\n",
              "    }\n",
              "\n",
              "    .colab-df-convert {\n",
              "      background-color: #E8F0FE;\n",
              "      border: none;\n",
              "      border-radius: 50%;\n",
              "      cursor: pointer;\n",
              "      display: none;\n",
              "      fill: #1967D2;\n",
              "      height: 32px;\n",
              "      padding: 0 0 0 0;\n",
              "      width: 32px;\n",
              "    }\n",
              "\n",
              "    .colab-df-convert:hover {\n",
              "      background-color: #E2EBFA;\n",
              "      box-shadow: 0px 1px 2px rgba(60, 64, 67, 0.3), 0px 1px 3px 1px rgba(60, 64, 67, 0.15);\n",
              "      fill: #174EA6;\n",
              "    }\n",
              "\n",
              "    [theme=dark] .colab-df-convert {\n",
              "      background-color: #3B4455;\n",
              "      fill: #D2E3FC;\n",
              "    }\n",
              "\n",
              "    [theme=dark] .colab-df-convert:hover {\n",
              "      background-color: #434B5C;\n",
              "      box-shadow: 0px 1px 3px 1px rgba(0, 0, 0, 0.15);\n",
              "      filter: drop-shadow(0px 1px 2px rgba(0, 0, 0, 0.3));\n",
              "      fill: #FFFFFF;\n",
              "    }\n",
              "  </style>\n",
              "\n",
              "      <script>\n",
              "        const buttonEl =\n",
              "          document.querySelector('#df-0de1b6dd-88ad-4881-9afd-580119d3516a button.colab-df-convert');\n",
              "        buttonEl.style.display =\n",
              "          google.colab.kernel.accessAllowed ? 'block' : 'none';\n",
              "\n",
              "        async function convertToInteractive(key) {\n",
              "          const element = document.querySelector('#df-0de1b6dd-88ad-4881-9afd-580119d3516a');\n",
              "          const dataTable =\n",
              "            await google.colab.kernel.invokeFunction('convertToInteractive',\n",
              "                                                     [key], {});\n",
              "          if (!dataTable) return;\n",
              "\n",
              "          const docLinkHtml = 'Like what you see? Visit the ' +\n",
              "            '<a target=\"_blank\" href=https://colab.research.google.com/notebooks/data_table.ipynb>data table notebook</a>'\n",
              "            + ' to learn more about interactive tables.';\n",
              "          element.innerHTML = '';\n",
              "          dataTable['output_type'] = 'display_data';\n",
              "          await google.colab.output.renderOutput(dataTable, element);\n",
              "          const docLink = document.createElement('div');\n",
              "          docLink.innerHTML = docLinkHtml;\n",
              "          element.appendChild(docLink);\n",
              "        }\n",
              "      </script>\n",
              "    </div>\n",
              "  </div>\n",
              "  "
            ]
          },
          "metadata": {},
          "execution_count": 12
        }
      ],
      "source": [
        "data.sample(5)"
      ]
    },
    {
      "cell_type": "code",
      "source": [
        "import nltk\n",
        "nltk.download('punkt')"
      ],
      "metadata": {
        "colab": {
          "base_uri": "https://localhost:8080/"
        },
        "id": "Fa7yuPDP4T1z",
        "outputId": "cd14781d-9f4e-48ad-ee76-8327b37384e3"
      },
      "execution_count": 14,
      "outputs": [
        {
          "output_type": "stream",
          "name": "stderr",
          "text": [
            "[nltk_data] Downloading package punkt to /root/nltk_data...\n",
            "[nltk_data]   Unzipping tokenizers/punkt.zip.\n"
          ]
        },
        {
          "output_type": "execute_result",
          "data": {
            "text/plain": [
              "True"
            ]
          },
          "metadata": {},
          "execution_count": 14
        }
      ]
    },
    {
      "cell_type": "code",
      "execution_count": 15,
      "metadata": {
        "ExecuteTime": {
          "end_time": "2021-08-21T16:17:55.190503Z",
          "start_time": "2021-08-21T16:17:54.607491Z"
        },
        "colab": {
          "base_uri": "https://localhost:8080/"
        },
        "id": "Ata_GAk23fXb",
        "outputId": "921565fd-52e2-44c5-8cb3-10bd713c80a4"
      },
      "outputs": [
        {
          "output_type": "execute_result",
          "data": {
            "text/plain": [
              "102261"
            ]
          },
          "metadata": {},
          "execution_count": 15
        }
      ],
      "source": [
        "train_corpus = \" \".join(data[\"preprocessed_text\"])\n",
        "tokens = word_tokenize(train_corpus)\n",
        "tokens_filtered = [word for word in tokens if word.isalnum()]\n",
        "len(tokens_filtered)"
      ]
    },
    {
      "cell_type": "code",
      "execution_count": 16,
      "metadata": {
        "ExecuteTime": {
          "end_time": "2021-08-21T16:17:55.270496Z",
          "start_time": "2021-08-21T16:17:55.191497Z"
        },
        "colab": {
          "base_uri": "https://localhost:8080/"
        },
        "id": "1WK-C75o3fXb",
        "outputId": "8ceb4e00-61ec-41f4-a0d5-532b8db4affa"
      },
      "outputs": [
        {
          "output_type": "execute_result",
          "data": {
            "text/plain": [
              "['приложение', 'не', 'удобно', 'работать', 'удобный', 'отлично', 'нравиться']"
            ]
          },
          "metadata": {},
          "execution_count": 16
        }
      ],
      "source": [
        "dist = FreqDist(tokens_filtered)\n",
        "tokens_filtered_top = [pair[0] for pair in dist.most_common(MAX_WORDS-1)]\n",
        "tokens_filtered_top[:7]"
      ]
    },
    {
      "cell_type": "code",
      "execution_count": 17,
      "metadata": {
        "ExecuteTime": {
          "end_time": "2021-08-21T16:17:55.286486Z",
          "start_time": "2021-08-21T16:17:55.271485Z"
        },
        "id": "0-zyiuXr3fXb"
      },
      "outputs": [],
      "source": [
        "vocabulary = {v: k for k, v in enumerate(tokens_filtered_top, 1)}"
      ]
    },
    {
      "cell_type": "code",
      "execution_count": 18,
      "metadata": {
        "ExecuteTime": {
          "end_time": "2021-08-21T16:17:55.301483Z",
          "start_time": "2021-08-21T16:17:55.287485Z"
        },
        "colab": {
          "base_uri": "https://localhost:8080/"
        },
        "id": "O2N7dKef3fXb",
        "outputId": "0df1f224-49fb-469f-f6da-87be61384b38"
      },
      "outputs": [
        {
          "output_type": "execute_result",
          "data": {
            "text/plain": [
              "1999"
            ]
          },
          "metadata": {},
          "execution_count": 18
        }
      ],
      "source": [
        "len(vocabulary)"
      ]
    },
    {
      "cell_type": "code",
      "execution_count": 19,
      "metadata": {
        "ExecuteTime": {
          "end_time": "2021-08-21T16:17:55.317496Z",
          "start_time": "2021-08-21T16:17:55.302486Z"
        },
        "id": "UdbkQWpQ3fXc"
      },
      "outputs": [],
      "source": [
        "def text_to_sequence(text, maxlen):\n",
        "    result = []\n",
        "    tokens = word_tokenize(text.lower())\n",
        "    tokens_filtered = [word for word in tokens if word.isalnum()]\n",
        "    for word in tokens_filtered:\n",
        "        if word in vocabulary:\n",
        "            result.append(vocabulary[word])\n",
        "    padding = [0]*(maxlen-len(result))\n",
        "    return padding + result[-maxlen:]"
      ]
    },
    {
      "cell_type": "code",
      "execution_count": 20,
      "metadata": {
        "ExecuteTime": {
          "end_time": "2021-08-21T16:17:57.765488Z",
          "start_time": "2021-08-21T16:17:55.318496Z"
        },
        "id": "RCz_VXsH3fXc"
      },
      "outputs": [],
      "source": [
        "data_train = np.asarray([text_to_sequence(text, MAX_LEN) for text in data['preprocessed_text']], dtype=np.int32)"
      ]
    },
    {
      "cell_type": "code",
      "execution_count": 21,
      "metadata": {
        "ExecuteTime": {
          "end_time": "2021-08-21T16:17:57.796485Z",
          "start_time": "2021-08-21T16:17:57.767490Z"
        },
        "id": "k6IJrYzd3fXc"
      },
      "outputs": [],
      "source": [
        "X_train, X_test, y_train, y_test = train_test_split(data_train, data['Rating'], test_size=0.33)"
      ]
    },
    {
      "cell_type": "markdown",
      "metadata": {
        "id": "5m_QljoJ3fXc"
      },
      "source": [
        "*********************************"
      ]
    },
    {
      "cell_type": "markdown",
      "metadata": {
        "id": "tbctUTxs3fXd"
      },
      "source": [
        "## Cлой Embedding по умолчанию"
      ]
    },
    {
      "cell_type": "code",
      "execution_count": 22,
      "metadata": {
        "ExecuteTime": {
          "end_time": "2021-08-21T16:17:57.811485Z",
          "start_time": "2021-08-21T16:17:57.798485Z"
        },
        "id": "0iAo3qsR3fXd"
      },
      "outputs": [],
      "source": [
        "BATCH_SIZE = 1024\n",
        "EPOCHES = 10"
      ]
    },
    {
      "cell_type": "code",
      "execution_count": 23,
      "metadata": {
        "ExecuteTime": {
          "end_time": "2021-08-21T16:17:58.618484Z",
          "start_time": "2021-08-21T16:17:57.813486Z"
        },
        "id": "GDfbw67I3fXd"
      },
      "outputs": [],
      "source": [
        "model = Sequential()\n",
        "model.add(Embedding(input_dim=MAX_WORDS, output_dim=128, input_length=MAX_LEN))\n",
        "model.add(Conv1D(128, 5))\n",
        "model.add(Activation(\"relu\"))\n",
        "model.add(GlobalMaxPool1D())\n",
        "model.add(Dense(20))\n",
        "model.add(Activation(\"relu\"))\n",
        "model.add(Dropout(0.25))\n",
        "model.add(Dense(5))\n",
        "model.add(Activation('softmax'))"
      ]
    },
    {
      "cell_type": "code",
      "execution_count": 24,
      "metadata": {
        "ExecuteTime": {
          "end_time": "2021-08-21T16:17:58.634496Z",
          "start_time": "2021-08-21T16:17:58.619485Z"
        },
        "id": "aY6OOYOs3fXd"
      },
      "outputs": [],
      "source": [
        "opt = Adam(learning_rate=0.001)\n",
        "model.compile(loss=SparseCategoricalCrossentropy(),\n",
        "              optimizer=opt,\n",
        "              metrics=['accuracy'])"
      ]
    },
    {
      "cell_type": "code",
      "execution_count": 25,
      "metadata": {
        "ExecuteTime": {
          "end_time": "2021-08-21T16:17:58.650504Z",
          "start_time": "2021-08-21T16:17:58.635485Z"
        },
        "colab": {
          "base_uri": "https://localhost:8080/"
        },
        "id": "t7gWXKsX3fXd",
        "outputId": "8905a719-846b-4b5c-b735-cb41ab6334fd"
      },
      "outputs": [
        {
          "output_type": "stream",
          "name": "stdout",
          "text": [
            "Model: \"sequential\"\n",
            "_________________________________________________________________\n",
            " Layer (type)                Output Shape              Param #   \n",
            "=================================================================\n",
            " embedding (Embedding)       (None, 100, 128)          256000    \n",
            "                                                                 \n",
            " conv1d (Conv1D)             (None, 96, 128)           82048     \n",
            "                                                                 \n",
            " activation (Activation)     (None, 96, 128)           0         \n",
            "                                                                 \n",
            " global_max_pooling1d (Globa  (None, 128)              0         \n",
            " lMaxPooling1D)                                                  \n",
            "                                                                 \n",
            " dense (Dense)               (None, 20)                2580      \n",
            "                                                                 \n",
            " activation_1 (Activation)   (None, 20)                0         \n",
            "                                                                 \n",
            " dropout (Dropout)           (None, 20)                0         \n",
            "                                                                 \n",
            " dense_1 (Dense)             (None, 5)                 105       \n",
            "                                                                 \n",
            " activation_2 (Activation)   (None, 5)                 0         \n",
            "                                                                 \n",
            "=================================================================\n",
            "Total params: 340,733\n",
            "Trainable params: 340,733\n",
            "Non-trainable params: 0\n",
            "_________________________________________________________________\n"
          ]
        }
      ],
      "source": [
        "model.summary()"
      ]
    },
    {
      "cell_type": "code",
      "execution_count": 26,
      "metadata": {
        "ExecuteTime": {
          "end_time": "2021-08-21T16:18:07.743681Z",
          "start_time": "2021-08-21T16:17:58.652497Z"
        },
        "id": "ryXF8YGg3fXe"
      },
      "outputs": [],
      "source": [
        "history = model.fit(X_train, y_train,\n",
        "                    batch_size=BATCH_SIZE,\n",
        "                    epochs=EPOCHES,\n",
        "                    verbose=0,\n",
        "                    validation_split=0.1)"
      ]
    },
    {
      "cell_type": "code",
      "execution_count": 27,
      "metadata": {
        "ExecuteTime": {
          "end_time": "2021-08-21T16:18:07.948354Z",
          "start_time": "2021-08-21T16:18:07.744697Z"
        },
        "colab": {
          "base_uri": "https://localhost:8080/"
        },
        "id": "tiLvYmUK3fXe",
        "outputId": "8203f92f-fe50-45b1-c487-30e1af1746ca"
      },
      "outputs": [
        {
          "output_type": "stream",
          "name": "stdout",
          "text": [
            "7/7 [==============================] - 2s 249ms/step - loss: 0.6509 - accuracy: 0.7775\n",
            "\n",
            "\n",
            "Test loss: 0.6509063839912415\n",
            "Test accuracy: 0.7775007486343384\n"
          ]
        }
      ],
      "source": [
        "score = model.evaluate(X_test, y_test, batch_size=BATCH_SIZE, verbose=1)\n",
        "print('\\n')\n",
        "print('Test loss:', score[0])\n",
        "print('Test accuracy:', score[1])"
      ]
    },
    {
      "cell_type": "markdown",
      "metadata": {
        "id": "COuvg3rE3fXe"
      },
      "source": [
        "***********************************************"
      ]
    },
    {
      "cell_type": "markdown",
      "metadata": {
        "id": "HwZ0IzVo3fXe"
      },
      "source": [
        "## Embedding с предобученными векторами"
      ]
    },
    {
      "cell_type": "code",
      "execution_count": 30,
      "metadata": {
        "ExecuteTime": {
          "end_time": "2021-08-21T16:18:08.343363Z",
          "start_time": "2021-08-21T16:18:07.951349Z"
        },
        "id": "GWPq6moF3fXe"
      },
      "outputs": [],
      "source": [
        "path = '/content/navec_news_v1_1B_250K_300d_100q.tar'\n",
        "emb = Navec.load(path)"
      ]
    },
    {
      "cell_type": "code",
      "execution_count": 31,
      "metadata": {
        "ExecuteTime": {
          "end_time": "2021-08-21T16:18:08.391355Z",
          "start_time": "2021-08-21T16:18:08.345345Z"
        },
        "id": "_ukoXaqC3fXe"
      },
      "outputs": [],
      "source": [
        "embedding_dim = 300\n",
        "\n",
        "embedding_matrix = np.zeros((MAX_WORDS, embedding_dim))\n",
        "for word in tokens_filtered_top:\n",
        "    embedding_vector = emb.get(word)\n",
        "    if embedding_vector is not None:\n",
        "        embedding_matrix[tokens_filtered_top.index(word)] = embedding_vector"
      ]
    },
    {
      "cell_type": "code",
      "execution_count": 32,
      "metadata": {
        "ExecuteTime": {
          "end_time": "2021-08-21T16:18:08.407343Z",
          "start_time": "2021-08-21T16:18:08.393347Z"
        },
        "scrolled": true,
        "colab": {
          "base_uri": "https://localhost:8080/"
        },
        "id": "fW_lishi3fXe",
        "outputId": "173d0358-55ea-4c43-c404-8421d38d9e69"
      },
      "outputs": [
        {
          "output_type": "execute_result",
          "data": {
            "text/plain": [
              "(2000, 300)"
            ]
          },
          "metadata": {},
          "execution_count": 32
        }
      ],
      "source": [
        "embedding_matrix.shape"
      ]
    },
    {
      "cell_type": "code",
      "execution_count": 33,
      "metadata": {
        "ExecuteTime": {
          "end_time": "2021-08-21T16:18:08.423350Z",
          "start_time": "2021-08-21T16:18:08.410343Z"
        },
        "id": "BgPVKNOE3fXf"
      },
      "outputs": [],
      "source": [
        "embedding_layer = Embedding(\n",
        "    MAX_WORDS,\n",
        "    embedding_dim,\n",
        "    embeddings_initializer=Constant(embedding_matrix),\n",
        "    trainable=False,\n",
        ")"
      ]
    },
    {
      "cell_type": "code",
      "execution_count": 34,
      "metadata": {
        "ExecuteTime": {
          "end_time": "2021-08-21T16:18:08.486472Z",
          "start_time": "2021-08-21T16:18:08.425344Z"
        },
        "id": "GfUE45jY3fXf"
      },
      "outputs": [],
      "source": [
        "model = Sequential()\n",
        "model.add(embedding_layer)\n",
        "model.add(Conv1D(128, 5))\n",
        "model.add(Activation(\"relu\"))\n",
        "model.add(GlobalMaxPool1D())\n",
        "model.add(Dense(20))\n",
        "model.add(Activation(\"relu\"))\n",
        "model.add(Dropout(0.25))\n",
        "model.add(Dense(5))\n",
        "model.add(Activation('softmax'))"
      ]
    },
    {
      "cell_type": "code",
      "execution_count": 35,
      "metadata": {
        "ExecuteTime": {
          "end_time": "2021-08-21T16:18:08.502342Z",
          "start_time": "2021-08-21T16:18:08.487346Z"
        },
        "id": "0exFY8dS3fXf"
      },
      "outputs": [],
      "source": [
        "model.compile(loss=SparseCategoricalCrossentropy(),\n",
        "              optimizer='adam',\n",
        "              metrics=['accuracy'])"
      ]
    },
    {
      "cell_type": "code",
      "execution_count": 36,
      "metadata": {
        "ExecuteTime": {
          "end_time": "2021-08-21T16:18:17.137607Z",
          "start_time": "2021-08-21T16:18:08.504351Z"
        },
        "id": "Vztg2onw3fXf"
      },
      "outputs": [],
      "source": [
        "history = model.fit(X_train, y_train,\n",
        "          batch_size=BATCH_SIZE,\n",
        "          epochs=EPOCHES,\n",
        "          verbose=0,\n",
        "          validation_split=0.1)"
      ]
    },
    {
      "cell_type": "code",
      "execution_count": 37,
      "metadata": {
        "ExecuteTime": {
          "end_time": "2021-08-21T16:18:17.487607Z",
          "start_time": "2021-08-21T16:18:17.138588Z"
        },
        "colab": {
          "base_uri": "https://localhost:8080/"
        },
        "id": "rm55u_eK3fXf",
        "outputId": "668c0072-42b9-4994-ea8a-71acca75c21a"
      },
      "outputs": [
        {
          "output_type": "stream",
          "name": "stdout",
          "text": [
            "7/7 [==============================] - 4s 559ms/step - loss: 0.7193 - accuracy: 0.7169\n",
            "\n",
            "\n",
            "Test loss: 0.7193139791488647\n",
            "Test accuracy: 0.7169257998466492\n"
          ]
        }
      ],
      "source": [
        "score = model.evaluate(X_test, y_test, batch_size=BATCH_SIZE, verbose=1)\n",
        "print('\\n')\n",
        "print('Test loss:', score[0])\n",
        "print('Test accuracy:', score[1])"
      ]
    },
    {
      "cell_type": "markdown",
      "metadata": {
        "id": "nP4kgscf3fXf"
      },
      "source": [
        "**Вывод:** использование предобученных векторов показало схожий результат."
      ]
    }
  ],
  "metadata": {
    "kernelspec": {
      "display_name": "Python 3",
      "language": "python",
      "name": "python3"
    },
    "language_info": {
      "codemirror_mode": {
        "name": "ipython",
        "version": 3
      },
      "file_extension": ".py",
      "mimetype": "text/x-python",
      "name": "python",
      "nbconvert_exporter": "python",
      "pygments_lexer": "ipython3",
      "version": "3.8.8"
    },
    "toc": {
      "base_numbering": 1,
      "nav_menu": {},
      "number_sections": true,
      "sideBar": true,
      "skip_h1_title": false,
      "title_cell": "Table of Contents",
      "title_sidebar": "Contents",
      "toc_cell": false,
      "toc_position": {},
      "toc_section_display": true,
      "toc_window_display": false
    },
    "colab": {
      "name": "Lesson_7.ipynb",
      "provenance": []
    }
  },
  "nbformat": 4,
  "nbformat_minor": 0
}